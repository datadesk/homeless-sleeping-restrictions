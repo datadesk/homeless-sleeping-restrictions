{
 "cells": [
  {
   "cell_type": "markdown",
   "metadata": {},
   "source": [
    "# Mapping the places affected by the city's proposal"
   ]
  },
  {
   "cell_type": "code",
   "execution_count": 1,
   "metadata": {},
   "outputs": [],
   "source": [
    "import pandas as pd\n",
    "import geopandas as gpd\n",
    "import matplotlib.pyplot as plt\n",
    "%matplotlib inline"
   ]
  },
  {
   "cell_type": "markdown",
   "metadata": {},
   "source": [
    "Read raw data from various sources"
   ]
  },
  {
   "cell_type": "code",
   "execution_count": 2,
   "metadata": {},
   "outputs": [],
   "source": [
    "rawfiles = {\n",
    "    'homeless': 'la_homeless_facilities.geojson',\n",
    "    'childcare': 'la_city_childcare.geojson',\n",
    "    'parks': 'la_city_county_parks.geojson',\n",
    "    'public_schools': 'lausd_schools_boundaries_clipped.geojson',\n",
    "    'private_schools': 'la_county_private_school_parcels.geojson',\n",
    "    'special_venues': 'la_city_special_venues.geojson'\n",
    "}"
   ]
  },
  {
   "cell_type": "code",
   "execution_count": 3,
   "metadata": {},
   "outputs": [],
   "source": [
    "def readprocess(fpath, category):\n",
    "    gdf = gpd.read_file(f'input/polygons/{fpath}')[['geometry']]\n",
    "    gdf['category'] = category\n",
    "    # use a projection in meters for accurate area calculations\n",
    "    gdf.to_crs({'init': 'epsg:3310'}, inplace=True)\n",
    "    return gdf"
   ]
  },
  {
   "cell_type": "code",
   "execution_count": 4,
   "metadata": {},
   "outputs": [],
   "source": [
    "processedshapes = {r: readprocess(rawfiles[r], r) for r in rawfiles}"
   ]
  },
  {
   "cell_type": "code",
   "execution_count": 5,
   "metadata": {},
   "outputs": [],
   "source": [
    "alldata = pd.concat(processedshapes.values(), sort=False)"
   ]
  },
  {
   "cell_type": "code",
   "execution_count": 6,
   "metadata": {},
   "outputs": [
    {
     "data": {
      "text/plain": [
       "{'init': 'epsg:3310'}"
      ]
     },
     "execution_count": 6,
     "metadata": {},
     "output_type": "execute_result"
    }
   ],
   "source": [
    "alldata.crs"
   ]
  },
  {
   "cell_type": "markdown",
   "metadata": {},
   "source": [
    "Conversion factor"
   ]
  },
  {
   "cell_type": "code",
   "execution_count": 7,
   "metadata": {},
   "outputs": [],
   "source": [
    "SQMETERS_TO_SQMI = 2590000"
   ]
  },
  {
   "cell_type": "code",
   "execution_count": 8,
   "metadata": {},
   "outputs": [],
   "source": [
    "alldata['area'] = alldata.geometry.area / SQMETERS_TO_SQMI"
   ]
  },
  {
   "cell_type": "code",
   "execution_count": 9,
   "metadata": {},
   "outputs": [
    {
     "data": {
      "text/html": [
       "<div>\n",
       "<style scoped>\n",
       "    .dataframe tbody tr th:only-of-type {\n",
       "        vertical-align: middle;\n",
       "    }\n",
       "\n",
       "    .dataframe tbody tr th {\n",
       "        vertical-align: top;\n",
       "    }\n",
       "\n",
       "    .dataframe thead th {\n",
       "        text-align: right;\n",
       "    }\n",
       "</style>\n",
       "<table border=\"1\" class=\"dataframe\">\n",
       "  <thead>\n",
       "    <tr style=\"text-align: right;\">\n",
       "      <th></th>\n",
       "      <th>geometry</th>\n",
       "      <th>category</th>\n",
       "      <th>area</th>\n",
       "    </tr>\n",
       "  </thead>\n",
       "  <tbody>\n",
       "    <tr>\n",
       "      <td>0</td>\n",
       "      <td>POLYGON ((162235.1707873342 -439706.7449111249...</td>\n",
       "      <td>homeless</td>\n",
       "      <td>0.000647</td>\n",
       "    </tr>\n",
       "    <tr>\n",
       "      <td>1</td>\n",
       "      <td>POLYGON ((157825.9805167973 -445239.4206681503...</td>\n",
       "      <td>homeless</td>\n",
       "      <td>0.000216</td>\n",
       "    </tr>\n",
       "    <tr>\n",
       "      <td>2</td>\n",
       "      <td>POLYGON ((159349.7365253346 -449897.639234968,...</td>\n",
       "      <td>homeless</td>\n",
       "      <td>0.000179</td>\n",
       "    </tr>\n",
       "    <tr>\n",
       "      <td>3</td>\n",
       "      <td>POLYGON ((159349.7365253346 -449897.639234968,...</td>\n",
       "      <td>homeless</td>\n",
       "      <td>0.000179</td>\n",
       "    </tr>\n",
       "    <tr>\n",
       "      <td>4</td>\n",
       "      <td>POLYGON ((159601.9190465482 -437824.3984980457...</td>\n",
       "      <td>homeless</td>\n",
       "      <td>0.000238</td>\n",
       "    </tr>\n",
       "  </tbody>\n",
       "</table>\n",
       "</div>"
      ],
      "text/plain": [
       "                                            geometry  category      area\n",
       "0  POLYGON ((162235.1707873342 -439706.7449111249...  homeless  0.000647\n",
       "1  POLYGON ((157825.9805167973 -445239.4206681503...  homeless  0.000216\n",
       "2  POLYGON ((159349.7365253346 -449897.639234968,...  homeless  0.000179\n",
       "3  POLYGON ((159349.7365253346 -449897.639234968,...  homeless  0.000179\n",
       "4  POLYGON ((159601.9190465482 -437824.3984980457...  homeless  0.000238"
      ]
     },
     "execution_count": 9,
     "metadata": {},
     "output_type": "execute_result"
    }
   ],
   "source": [
    "alldata.head()"
   ]
  },
  {
   "cell_type": "code",
   "execution_count": 10,
   "metadata": {},
   "outputs": [
    {
     "data": {
      "text/plain": [
       "<matplotlib.axes._subplots.AxesSubplot at 0x7f9c1343e160>"
      ]
     },
     "execution_count": 10,
     "metadata": {},
     "output_type": "execute_result"
    },
    {
     "data": {
      "image/png": "[encoded data removed]",
      "text/plain": [
       "<Figure size 432x288 with 1 Axes>"
      ]
     },
     "metadata": {
      "needs_background": "light"
     },
     "output_type": "display_data"
    }
   ],
   "source": [
    "alldata.plot()"
   ]
  },
  {
   "cell_type": "markdown",
   "metadata": {},
   "source": [
    "**How many of each shape did we bring in and how much area (in square miles) does that category add up to?**"
   ]
  },
  {
   "cell_type": "code",
   "execution_count": 11,
   "metadata": {},
   "outputs": [
    {
     "data": {
      "text/html": [
       "<div>\n",
       "<style scoped>\n",
       "    .dataframe tbody tr th:only-of-type {\n",
       "        vertical-align: middle;\n",
       "    }\n",
       "\n",
       "    .dataframe tbody tr th {\n",
       "        vertical-align: top;\n",
       "    }\n",
       "\n",
       "    .dataframe thead th {\n",
       "        text-align: right;\n",
       "    }\n",
       "</style>\n",
       "<table border=\"1\" class=\"dataframe\">\n",
       "  <thead>\n",
       "    <tr style=\"text-align: right;\">\n",
       "      <th></th>\n",
       "      <th>count</th>\n",
       "      <th>sum</th>\n",
       "    </tr>\n",
       "    <tr>\n",
       "      <th>category</th>\n",
       "      <th></th>\n",
       "      <th></th>\n",
       "    </tr>\n",
       "  </thead>\n",
       "  <tbody>\n",
       "    <tr>\n",
       "      <td>childcare</td>\n",
       "      <td>1161</td>\n",
       "      <td>7.349280</td>\n",
       "    </tr>\n",
       "    <tr>\n",
       "      <td>homeless</td>\n",
       "      <td>36</td>\n",
       "      <td>0.091682</td>\n",
       "    </tr>\n",
       "    <tr>\n",
       "      <td>parks</td>\n",
       "      <td>836</td>\n",
       "      <td>70.899342</td>\n",
       "    </tr>\n",
       "    <tr>\n",
       "      <td>private_schools</td>\n",
       "      <td>842</td>\n",
       "      <td>1.940742</td>\n",
       "    </tr>\n",
       "    <tr>\n",
       "      <td>public_schools</td>\n",
       "      <td>640</td>\n",
       "      <td>8.146147</td>\n",
       "    </tr>\n",
       "    <tr>\n",
       "      <td>special_venues</td>\n",
       "      <td>9</td>\n",
       "      <td>0.691073</td>\n",
       "    </tr>\n",
       "  </tbody>\n",
       "</table>\n",
       "</div>"
      ],
      "text/plain": [
       "                 count        sum\n",
       "category                         \n",
       "childcare         1161   7.349280\n",
       "homeless            36   0.091682\n",
       "parks              836  70.899342\n",
       "private_schools    842   1.940742\n",
       "public_schools     640   8.146147\n",
       "special_venues       9   0.691073"
      ]
     },
     "execution_count": 11,
     "metadata": {},
     "output_type": "execute_result"
    }
   ],
   "source": [
    "alldata.groupby('category')['area'].aggregate(['count','sum'])"
   ]
  },
  {
   "cell_type": "markdown",
   "metadata": {},
   "source": [
    "Combine the polygons into one shape to account for overlaps"
   ]
  },
  {
   "cell_type": "code",
   "execution_count": 12,
   "metadata": {},
   "outputs": [],
   "source": [
    "def adddummyfield(row):\n",
    "    row['category'] = 'x'\n",
    "    return row"
   ]
  },
  {
   "cell_type": "code",
   "execution_count": 13,
   "metadata": {},
   "outputs": [],
   "source": [
    "dissolvedshapes = alldata.apply(adddummyfield, axis=1).dissolve('category')"
   ]
  },
  {
   "cell_type": "code",
   "execution_count": 14,
   "metadata": {},
   "outputs": [],
   "source": [
    "dissolvedshapes.crs = {'init':'epsg:3310'}"
   ]
  },
  {
   "cell_type": "code",
   "execution_count": 15,
   "metadata": {},
   "outputs": [
    {
     "data": {
      "text/html": [
       "<div>\n",
       "<style scoped>\n",
       "    .dataframe tbody tr th:only-of-type {\n",
       "        vertical-align: middle;\n",
       "    }\n",
       "\n",
       "    .dataframe tbody tr th {\n",
       "        vertical-align: top;\n",
       "    }\n",
       "\n",
       "    .dataframe thead th {\n",
       "        text-align: right;\n",
       "    }\n",
       "</style>\n",
       "<table border=\"1\" class=\"dataframe\">\n",
       "  <thead>\n",
       "    <tr style=\"text-align: right;\">\n",
       "      <th></th>\n",
       "      <th>geometry</th>\n",
       "      <th>area</th>\n",
       "    </tr>\n",
       "    <tr>\n",
       "      <th>category</th>\n",
       "      <th></th>\n",
       "      <th></th>\n",
       "    </tr>\n",
       "  </thead>\n",
       "  <tbody>\n",
       "    <tr>\n",
       "      <td>x</td>\n",
       "      <td>(POLYGON Z ((162629.5480530739 -451456.3778770...</td>\n",
       "      <td>0.000647</td>\n",
       "    </tr>\n",
       "  </tbody>\n",
       "</table>\n",
       "</div>"
      ],
      "text/plain": [
       "                                                   geometry      area\n",
       "category                                                             \n",
       "x         (POLYGON Z ((162629.5480530739 -451456.3778770...  0.000647"
      ]
     },
     "execution_count": 15,
     "metadata": {},
     "output_type": "execute_result"
    }
   ],
   "source": [
    "dissolvedshapes.head()"
   ]
  },
  {
   "cell_type": "code",
   "execution_count": 16,
   "metadata": {},
   "outputs": [
    {
     "data": {
      "text/plain": [
       "<matplotlib.axes._subplots.AxesSubplot at 0x7f9c133462b0>"
      ]
     },
     "execution_count": 16,
     "metadata": {},
     "output_type": "execute_result"
    },
    {
     "data": {
      "image/png": "[encoded data removed]",
      "text/plain": [
       "<Figure size 432x288 with 1 Axes>"
      ]
     },
     "metadata": {
      "needs_background": "light"
     },
     "output_type": "display_data"
    }
   ],
   "source": [
    "dissolvedshapes.plot()"
   ]
  },
  {
   "cell_type": "markdown",
   "metadata": {},
   "source": [
    "Draw the 500-foot buffer around each of these properties (152.4 meters)"
   ]
  },
  {
   "cell_type": "code",
   "execution_count": 17,
   "metadata": {},
   "outputs": [],
   "source": [
    "alldata['withbuffer'] = alldata.buffer(152.4)"
   ]
  },
  {
   "cell_type": "code",
   "execution_count": 18,
   "metadata": {},
   "outputs": [
    {
     "data": {
      "text/html": [
       "<div>\n",
       "<style scoped>\n",
       "    .dataframe tbody tr th:only-of-type {\n",
       "        vertical-align: middle;\n",
       "    }\n",
       "\n",
       "    .dataframe tbody tr th {\n",
       "        vertical-align: top;\n",
       "    }\n",
       "\n",
       "    .dataframe thead th {\n",
       "        text-align: right;\n",
       "    }\n",
       "</style>\n",
       "<table border=\"1\" class=\"dataframe\">\n",
       "  <thead>\n",
       "    <tr style=\"text-align: right;\">\n",
       "      <th></th>\n",
       "      <th>geometry</th>\n",
       "      <th>category</th>\n",
       "      <th>area</th>\n",
       "      <th>withbuffer</th>\n",
       "    </tr>\n",
       "  </thead>\n",
       "  <tbody>\n",
       "    <tr>\n",
       "      <td>0</td>\n",
       "      <td>POLYGON ((162235.1707873342 -439706.7449111249...</td>\n",
       "      <td>homeless</td>\n",
       "      <td>0.000647</td>\n",
       "      <td>POLYGON ((162338.1895894707 -439821.7115103276...</td>\n",
       "    </tr>\n",
       "    <tr>\n",
       "      <td>1</td>\n",
       "      <td>POLYGON ((157825.9805167973 -445239.4206681503...</td>\n",
       "      <td>homeless</td>\n",
       "      <td>0.000216</td>\n",
       "      <td>POLYGON ((157978.3442876927 -445236.0978201961...</td>\n",
       "    </tr>\n",
       "    <tr>\n",
       "      <td>2</td>\n",
       "      <td>POLYGON ((159349.7365253346 -449897.639234968,...</td>\n",
       "      <td>homeless</td>\n",
       "      <td>0.000179</td>\n",
       "      <td>POLYGON ((159353.2306388219 -450049.9991744893...</td>\n",
       "    </tr>\n",
       "    <tr>\n",
       "      <td>3</td>\n",
       "      <td>POLYGON ((159349.7365253346 -449897.639234968,...</td>\n",
       "      <td>homeless</td>\n",
       "      <td>0.000179</td>\n",
       "      <td>POLYGON ((159353.2306388219 -450049.9991744893...</td>\n",
       "    </tr>\n",
       "    <tr>\n",
       "      <td>4</td>\n",
       "      <td>POLYGON ((159601.9190465482 -437824.3984980457...</td>\n",
       "      <td>homeless</td>\n",
       "      <td>0.000238</td>\n",
       "      <td>POLYGON ((159671.0848443312 -437688.5977159528...</td>\n",
       "    </tr>\n",
       "  </tbody>\n",
       "</table>\n",
       "</div>"
      ],
      "text/plain": [
       "                                            geometry  category      area  \\\n",
       "0  POLYGON ((162235.1707873342 -439706.7449111249...  homeless  0.000647   \n",
       "1  POLYGON ((157825.9805167973 -445239.4206681503...  homeless  0.000216   \n",
       "2  POLYGON ((159349.7365253346 -449897.639234968,...  homeless  0.000179   \n",
       "3  POLYGON ((159349.7365253346 -449897.639234968,...  homeless  0.000179   \n",
       "4  POLYGON ((159601.9190465482 -437824.3984980457...  homeless  0.000238   \n",
       "\n",
       "                                          withbuffer  \n",
       "0  POLYGON ((162338.1895894707 -439821.7115103276...  \n",
       "1  POLYGON ((157978.3442876927 -445236.0978201961...  \n",
       "2  POLYGON ((159353.2306388219 -450049.9991744893...  \n",
       "3  POLYGON ((159353.2306388219 -450049.9991744893...  \n",
       "4  POLYGON ((159671.0848443312 -437688.5977159528...  "
      ]
     },
     "execution_count": 18,
     "metadata": {},
     "output_type": "execute_result"
    }
   ],
   "source": [
    "alldata.head()"
   ]
  },
  {
   "cell_type": "code",
   "execution_count": 19,
   "metadata": {},
   "outputs": [
    {
     "data": {
      "text/plain": [
       "<matplotlib.axes._subplots.AxesSubplot at 0x7f9c135c49e8>"
      ]
     },
     "execution_count": 19,
     "metadata": {},
     "output_type": "execute_result"
    },
    {
     "data": {
      "image/png": "[encoded data removed]",
      "text/plain": [
       "<Figure size 432x288 with 1 Axes>"
      ]
     },
     "metadata": {
      "needs_background": "light"
     },
     "output_type": "display_data"
    }
   ],
   "source": [
    "gpd.GeoSeries(alldata['withbuffer']).plot()"
   ]
  },
  {
   "cell_type": "markdown",
   "metadata": {},
   "source": [
    "Combine into one layer"
   ]
  },
  {
   "cell_type": "code",
   "execution_count": 20,
   "metadata": {},
   "outputs": [],
   "source": [
    "allbuffers = gpd.GeoDataFrame(\n",
    "    alldata[['category','withbuffer']].rename(columns={'withbuffer':'geometry'})\n",
    ")\\\n",
    ".apply(adddummyfield,axis=1)\\\n",
    ".dissolve(by='category')"
   ]
  },
  {
   "cell_type": "code",
   "execution_count": 21,
   "metadata": {},
   "outputs": [],
   "source": [
    "allbuffers.crs = {'init':'epsg:3310'}"
   ]
  },
  {
   "cell_type": "code",
   "execution_count": 22,
   "metadata": {},
   "outputs": [
    {
     "data": {
      "text/plain": [
       "<matplotlib.axes._subplots.AxesSubplot at 0x7f9c13756208>"
      ]
     },
     "execution_count": 22,
     "metadata": {},
     "output_type": "execute_result"
    },
    {
     "data": {
      "image/png": "[encoded data removed]",
      "text/plain": [
       "<Figure size 432x288 with 1 Axes>"
      ]
     },
     "metadata": {
      "needs_background": "light"
     },
     "output_type": "display_data"
    }
   ],
   "source": [
    "allbuffers.plot()"
   ]
  },
  {
   "cell_type": "markdown",
   "metadata": {},
   "source": [
    "Subtract the shape of the dissolved polygons"
   ]
  },
  {
   "cell_type": "code",
   "execution_count": 23,
   "metadata": {},
   "outputs": [],
   "source": [
    "allbuffers['difference'] = allbuffers.apply(lambda x: x['geometry'].difference(dissolvedshapes.geometry[0]), axis=1)"
   ]
  },
  {
   "cell_type": "markdown",
   "metadata": {},
   "source": [
    "Clip to shape of L.A., to account for buffers that go outside city boundaries"
   ]
  },
  {
   "cell_type": "code",
   "execution_count": 24,
   "metadata": {},
   "outputs": [],
   "source": [
    "cityofla = gpd.read_file('input/neighborhoods/la-city-boundary.geojson').to_crs({'init': 'epsg:3310'})"
   ]
  },
  {
   "cell_type": "code",
   "execution_count": 25,
   "metadata": {},
   "outputs": [],
   "source": [
    "allbuffers['clipped'] = allbuffers.apply(lambda x: x['difference'].intersection(cityofla.geometry[0]), axis=1)"
   ]
  },
  {
   "cell_type": "markdown",
   "metadata": {},
   "source": [
    "Track how the area changes as we applied each transformation"
   ]
  },
  {
   "cell_type": "code",
   "execution_count": 26,
   "metadata": {},
   "outputs": [
    {
     "data": {
      "text/html": [
       "<div>\n",
       "<style scoped>\n",
       "    .dataframe tbody tr th:only-of-type {\n",
       "        vertical-align: middle;\n",
       "    }\n",
       "\n",
       "    .dataframe tbody tr th {\n",
       "        vertical-align: top;\n",
       "    }\n",
       "\n",
       "    .dataframe thead th {\n",
       "        text-align: right;\n",
       "    }\n",
       "</style>\n",
       "<table border=\"1\" class=\"dataframe\">\n",
       "  <thead>\n",
       "    <tr style=\"text-align: right;\">\n",
       "      <th></th>\n",
       "      <th>geometry</th>\n",
       "      <th>difference</th>\n",
       "      <th>clipped</th>\n",
       "    </tr>\n",
       "    <tr>\n",
       "      <th>category</th>\n",
       "      <th></th>\n",
       "      <th></th>\n",
       "      <th></th>\n",
       "    </tr>\n",
       "  </thead>\n",
       "  <tbody>\n",
       "    <tr>\n",
       "      <td>x</td>\n",
       "      <td>220.439807</td>\n",
       "      <td>136.171638</td>\n",
       "      <td>127.324442</td>\n",
       "    </tr>\n",
       "  </tbody>\n",
       "</table>\n",
       "</div>"
      ],
      "text/plain": [
       "            geometry  difference     clipped\n",
       "category                                    \n",
       "x         220.439807  136.171638  127.324442"
      ]
     },
     "execution_count": 26,
     "metadata": {},
     "output_type": "execute_result"
    }
   ],
   "source": [
    "allbuffers.apply(lambda x: gpd.GeoSeries(x).area / SQMETERS_TO_SQMI)"
   ]
  },
  {
   "cell_type": "code",
   "execution_count": 27,
   "metadata": {},
   "outputs": [],
   "source": [
    "finalbuffers = gpd.GeoDataFrame(allbuffers[['clipped']].reset_index(drop=True).rename(columns={'clipped':'geometry'}))"
   ]
  },
  {
   "cell_type": "code",
   "execution_count": 28,
   "metadata": {},
   "outputs": [
    {
     "data": {
      "text/html": [
       "<div>\n",
       "<style scoped>\n",
       "    .dataframe tbody tr th:only-of-type {\n",
       "        vertical-align: middle;\n",
       "    }\n",
       "\n",
       "    .dataframe tbody tr th {\n",
       "        vertical-align: top;\n",
       "    }\n",
       "\n",
       "    .dataframe thead th {\n",
       "        text-align: right;\n",
       "    }\n",
       "</style>\n",
       "<table border=\"1\" class=\"dataframe\">\n",
       "  <thead>\n",
       "    <tr style=\"text-align: right;\">\n",
       "      <th></th>\n",
       "      <th>geometry</th>\n",
       "    </tr>\n",
       "  </thead>\n",
       "  <tbody>\n",
       "    <tr>\n",
       "      <td>0</td>\n",
       "      <td>(POLYGON Z ((158699.2582505594 -475485.0419580...</td>\n",
       "    </tr>\n",
       "  </tbody>\n",
       "</table>\n",
       "</div>"
      ],
      "text/plain": [
       "                                            geometry\n",
       "0  (POLYGON Z ((158699.2582505594 -475485.0419580..."
      ]
     },
     "execution_count": 28,
     "metadata": {},
     "output_type": "execute_result"
    }
   ],
   "source": [
    "finalbuffers.head()"
   ]
  },
  {
   "cell_type": "code",
   "execution_count": 29,
   "metadata": {},
   "outputs": [
    {
     "data": {
      "text/plain": [
       "<matplotlib.axes._subplots.AxesSubplot at 0x7f9c13609a58>"
      ]
     },
     "execution_count": 29,
     "metadata": {},
     "output_type": "execute_result"
    },
    {
     "data": {
      "image/png": "[encoded data removed]",
      "text/plain": [
       "<Figure size 432x288 with 1 Axes>"
      ]
     },
     "metadata": {
      "needs_background": "light"
     },
     "output_type": "display_data"
    }
   ],
   "source": [
    "finalbuffers.plot()"
   ]
  },
  {
   "cell_type": "markdown",
   "metadata": {},
   "source": [
    "Read LA Times neighborhood file (with Skid Row delineated in downtown)"
   ]
  },
  {
   "cell_type": "code",
   "execution_count": 30,
   "metadata": {},
   "outputs": [],
   "source": [
    "hoods = gpd.read_file('input/neighborhoods/custom-la-hoods-skid-row.geojson')"
   ]
  },
  {
   "cell_type": "code",
   "execution_count": 31,
   "metadata": {
    "scrolled": true
   },
   "outputs": [
    {
     "data": {
      "text/plain": [
       "{'init': 'epsg:4326'}"
      ]
     },
     "execution_count": 31,
     "metadata": {},
     "output_type": "execute_result"
    }
   ],
   "source": [
    "hoods.crs"
   ]
  },
  {
   "cell_type": "code",
   "execution_count": 32,
   "metadata": {},
   "outputs": [],
   "source": [
    "hoods.to_crs({'init': 'epsg:3310'}, inplace=True)"
   ]
  },
  {
   "cell_type": "code",
   "execution_count": 33,
   "metadata": {},
   "outputs": [
    {
     "data": {
      "text/html": [
       "<div>\n",
       "<style scoped>\n",
       "    .dataframe tbody tr th:only-of-type {\n",
       "        vertical-align: middle;\n",
       "    }\n",
       "\n",
       "    .dataframe tbody tr th {\n",
       "        vertical-align: top;\n",
       "    }\n",
       "\n",
       "    .dataframe thead th {\n",
       "        text-align: right;\n",
       "    }\n",
       "</style>\n",
       "<table border=\"1\" class=\"dataframe\">\n",
       "  <thead>\n",
       "    <tr style=\"text-align: right;\">\n",
       "      <th></th>\n",
       "      <th>name</th>\n",
       "      <th>geometry</th>\n",
       "    </tr>\n",
       "  </thead>\n",
       "  <tbody>\n",
       "    <tr>\n",
       "      <td>0</td>\n",
       "      <td>Adams-Normandie</td>\n",
       "      <td>(POLYGON ((156139.6401248094 -440624.691527145...</td>\n",
       "    </tr>\n",
       "    <tr>\n",
       "      <td>1</td>\n",
       "      <td>Arleta</td>\n",
       "      <td>(POLYGON ((145361.3096072993 -420096.183241404...</td>\n",
       "    </tr>\n",
       "    <tr>\n",
       "      <td>2</td>\n",
       "      <td>Arlington Heights</td>\n",
       "      <td>(POLYGON ((155472.5469032948 -438950.195603739...</td>\n",
       "    </tr>\n",
       "    <tr>\n",
       "      <td>3</td>\n",
       "      <td>Atwater Village</td>\n",
       "      <td>(POLYGON ((158739.6492951898 -427752.278756475...</td>\n",
       "    </tr>\n",
       "    <tr>\n",
       "      <td>4</td>\n",
       "      <td>Baldwin Hills/Crenshaw</td>\n",
       "      <td>(POLYGON ((151801.1076706515 -442096.112350080...</td>\n",
       "    </tr>\n",
       "  </tbody>\n",
       "</table>\n",
       "</div>"
      ],
      "text/plain": [
       "                     name                                           geometry\n",
       "0         Adams-Normandie  (POLYGON ((156139.6401248094 -440624.691527145...\n",
       "1                  Arleta  (POLYGON ((145361.3096072993 -420096.183241404...\n",
       "2       Arlington Heights  (POLYGON ((155472.5469032948 -438950.195603739...\n",
       "3         Atwater Village  (POLYGON ((158739.6492951898 -427752.278756475...\n",
       "4  Baldwin Hills/Crenshaw  (POLYGON ((151801.1076706515 -442096.112350080..."
      ]
     },
     "execution_count": 33,
     "metadata": {},
     "output_type": "execute_result"
    }
   ],
   "source": [
    "hoods.head()"
   ]
  },
  {
   "cell_type": "code",
   "execution_count": 34,
   "metadata": {},
   "outputs": [
    {
     "data": {
      "text/plain": [
       "115"
      ]
     },
     "execution_count": 34,
     "metadata": {},
     "output_type": "execute_result"
    }
   ],
   "source": [
    "len(hoods)"
   ]
  },
  {
   "cell_type": "markdown",
   "metadata": {},
   "source": [
    "**How much area is in the city of L.A.?**"
   ]
  },
  {
   "cell_type": "code",
   "execution_count": 35,
   "metadata": {},
   "outputs": [
    {
     "data": {
      "text/plain": [
       "475.6773404706595"
      ]
     },
     "execution_count": 35,
     "metadata": {},
     "output_type": "execute_result"
    }
   ],
   "source": [
    "totalcityarea = hoods.geometry.area.sum() / SQMETERS_TO_SQMI\n",
    "totalcityarea"
   ]
  },
  {
   "cell_type": "markdown",
   "metadata": {},
   "source": [
    "**How much total area is in these combined buffers?**"
   ]
  },
  {
   "cell_type": "code",
   "execution_count": 36,
   "metadata": {},
   "outputs": [
    {
     "data": {
      "text/plain": [
       "127.3244417323887"
      ]
     },
     "execution_count": 36,
     "metadata": {},
     "output_type": "execute_result"
    }
   ],
   "source": [
    "totalbufferarea = allbuffers.clipped[0].area / SQMETERS_TO_SQMI\n",
    "totalbufferarea"
   ]
  },
  {
   "cell_type": "markdown",
   "metadata": {},
   "source": [
    "**What percentage of the city is inacessible for sleeping under this proposal?**"
   ]
  },
  {
   "cell_type": "code",
   "execution_count": 37,
   "metadata": {},
   "outputs": [
    {
     "data": {
      "text/plain": [
       "0.2676697645643734"
      ]
     },
     "execution_count": 37,
     "metadata": {},
     "output_type": "execute_result"
    }
   ],
   "source": [
    "totalbufferarea / totalcityarea"
   ]
  },
  {
   "cell_type": "markdown",
   "metadata": {},
   "source": [
    "Calculate the intersection of each hood with the buffers"
   ]
  },
  {
   "cell_type": "code",
   "execution_count": 38,
   "metadata": {},
   "outputs": [],
   "source": [
    "b = finalbuffers.geometry[0]"
   ]
  },
  {
   "cell_type": "code",
   "execution_count": 39,
   "metadata": {},
   "outputs": [],
   "source": [
    "def calculate_intersection(row):\n",
    "    row['intersection'] = row['geometry'].intersection(b)\n",
    "    return row"
   ]
  },
  {
   "cell_type": "code",
   "execution_count": 40,
   "metadata": {},
   "outputs": [],
   "source": [
    "hoods = hoods.apply(calculate_intersection, axis=1)"
   ]
  },
  {
   "cell_type": "code",
   "execution_count": 41,
   "metadata": {},
   "outputs": [
    {
     "data": {
      "text/html": [
       "<div>\n",
       "<style scoped>\n",
       "    .dataframe tbody tr th:only-of-type {\n",
       "        vertical-align: middle;\n",
       "    }\n",
       "\n",
       "    .dataframe tbody tr th {\n",
       "        vertical-align: top;\n",
       "    }\n",
       "\n",
       "    .dataframe thead th {\n",
       "        text-align: right;\n",
       "    }\n",
       "</style>\n",
       "<table border=\"1\" class=\"dataframe\">\n",
       "  <thead>\n",
       "    <tr style=\"text-align: right;\">\n",
       "      <th></th>\n",
       "      <th>name</th>\n",
       "      <th>geometry</th>\n",
       "      <th>intersection</th>\n",
       "    </tr>\n",
       "  </thead>\n",
       "  <tbody>\n",
       "    <tr>\n",
       "      <td>0</td>\n",
       "      <td>Adams-Normandie</td>\n",
       "      <td>(POLYGON ((156139.6401248094 -440624.691527145...</td>\n",
       "      <td>(POLYGON Z ((156139.6401248094 -440624.6915271...</td>\n",
       "    </tr>\n",
       "    <tr>\n",
       "      <td>1</td>\n",
       "      <td>Arleta</td>\n",
       "      <td>(POLYGON ((145361.3096072993 -420096.183241404...</td>\n",
       "      <td>(POLYGON Z ((144763.5458591036 -420290.2059632...</td>\n",
       "    </tr>\n",
       "    <tr>\n",
       "      <td>2</td>\n",
       "      <td>Arlington Heights</td>\n",
       "      <td>(POLYGON ((155472.5469032948 -438950.195603739...</td>\n",
       "      <td>(POLYGON Z ((155472.5469032948 -438950.1956037...</td>\n",
       "    </tr>\n",
       "    <tr>\n",
       "      <td>3</td>\n",
       "      <td>Atwater Village</td>\n",
       "      <td>(POLYGON ((158739.6492951898 -427752.278756475...</td>\n",
       "      <td>(POLYGON Z ((159169.0786837959 -428119.5991611...</td>\n",
       "    </tr>\n",
       "    <tr>\n",
       "      <td>4</td>\n",
       "      <td>Baldwin Hills/Crenshaw</td>\n",
       "      <td>(POLYGON ((151801.1076706515 -442096.112350080...</td>\n",
       "      <td>(POLYGON Z ((151801.1076706515 -442096.1123500...</td>\n",
       "    </tr>\n",
       "  </tbody>\n",
       "</table>\n",
       "</div>"
      ],
      "text/plain": [
       "                     name                                           geometry  \\\n",
       "0         Adams-Normandie  (POLYGON ((156139.6401248094 -440624.691527145...   \n",
       "1                  Arleta  (POLYGON ((145361.3096072993 -420096.183241404...   \n",
       "2       Arlington Heights  (POLYGON ((155472.5469032948 -438950.195603739...   \n",
       "3         Atwater Village  (POLYGON ((158739.6492951898 -427752.278756475...   \n",
       "4  Baldwin Hills/Crenshaw  (POLYGON ((151801.1076706515 -442096.112350080...   \n",
       "\n",
       "                                        intersection  \n",
       "0  (POLYGON Z ((156139.6401248094 -440624.6915271...  \n",
       "1  (POLYGON Z ((144763.5458591036 -420290.2059632...  \n",
       "2  (POLYGON Z ((155472.5469032948 -438950.1956037...  \n",
       "3  (POLYGON Z ((159169.0786837959 -428119.5991611...  \n",
       "4  (POLYGON Z ((151801.1076706515 -442096.1123500...  "
      ]
     },
     "execution_count": 41,
     "metadata": {},
     "output_type": "execute_result"
    }
   ],
   "source": [
    "hoods.head()"
   ]
  },
  {
   "cell_type": "markdown",
   "metadata": {},
   "source": [
    "Calculate area of neighborhood"
   ]
  },
  {
   "cell_type": "code",
   "execution_count": 42,
   "metadata": {},
   "outputs": [],
   "source": [
    "hoods['hood_area'] = hoods.geometry.area / SQMETERS_TO_SQMI"
   ]
  },
  {
   "cell_type": "markdown",
   "metadata": {},
   "source": [
    "Calculate how much area is prohibited in each neighborhood"
   ]
  },
  {
   "cell_type": "code",
   "execution_count": 43,
   "metadata": {},
   "outputs": [],
   "source": [
    "hoods['buffer_area'] = hoods['intersection'].apply(lambda x: x.area / SQMETERS_TO_SQMI)"
   ]
  },
  {
   "cell_type": "markdown",
   "metadata": {},
   "source": [
    "Calculate percent"
   ]
  },
  {
   "cell_type": "code",
   "execution_count": 44,
   "metadata": {},
   "outputs": [],
   "source": [
    "hoods['pct_of_hood_in_buffer'] = hoods.buffer_area / hoods.hood_area"
   ]
  },
  {
   "cell_type": "code",
   "execution_count": 45,
   "metadata": {},
   "outputs": [],
   "source": [
    "hoodsstats = hoods[['name','hood_area','buffer_area','pct_of_hood_in_buffer']]"
   ]
  },
  {
   "cell_type": "code",
   "execution_count": 46,
   "metadata": {},
   "outputs": [
    {
     "data": {
      "text/html": [
       "<div>\n",
       "<style scoped>\n",
       "    .dataframe tbody tr th:only-of-type {\n",
       "        vertical-align: middle;\n",
       "    }\n",
       "\n",
       "    .dataframe tbody tr th {\n",
       "        vertical-align: top;\n",
       "    }\n",
       "\n",
       "    .dataframe thead th {\n",
       "        text-align: right;\n",
       "    }\n",
       "</style>\n",
       "<table border=\"1\" class=\"dataframe\">\n",
       "  <thead>\n",
       "    <tr style=\"text-align: right;\">\n",
       "      <th></th>\n",
       "      <th>name</th>\n",
       "      <th>hood_area</th>\n",
       "      <th>buffer_area</th>\n",
       "      <th>pct_of_hood_in_buffer</th>\n",
       "    </tr>\n",
       "  </thead>\n",
       "  <tbody>\n",
       "    <tr>\n",
       "      <td>21</td>\n",
       "      <td>Cypress Park</td>\n",
       "      <td>0.726685</td>\n",
       "      <td>0.454308</td>\n",
       "      <td>0.625178</td>\n",
       "    </tr>\n",
       "    <tr>\n",
       "      <td>106</td>\n",
       "      <td>Westlake</td>\n",
       "      <td>2.717338</td>\n",
       "      <td>1.692640</td>\n",
       "      <td>0.622904</td>\n",
       "    </tr>\n",
       "    <tr>\n",
       "      <td>102</td>\n",
       "      <td>Watts</td>\n",
       "      <td>2.121397</td>\n",
       "      <td>1.248720</td>\n",
       "      <td>0.588631</td>\n",
       "    </tr>\n",
       "    <tr>\n",
       "      <td>51</td>\n",
       "      <td>Koreatown</td>\n",
       "      <td>2.704202</td>\n",
       "      <td>1.562684</td>\n",
       "      <td>0.577872</td>\n",
       "    </tr>\n",
       "    <tr>\n",
       "      <td>73</td>\n",
       "      <td>Pico-Union</td>\n",
       "      <td>1.670386</td>\n",
       "      <td>0.944300</td>\n",
       "      <td>0.565318</td>\n",
       "    </tr>\n",
       "  </tbody>\n",
       "</table>\n",
       "</div>"
      ],
      "text/plain": [
       "             name  hood_area  buffer_area  pct_of_hood_in_buffer\n",
       "21   Cypress Park   0.726685     0.454308               0.625178\n",
       "106      Westlake   2.717338     1.692640               0.622904\n",
       "102         Watts   2.121397     1.248720               0.588631\n",
       "51      Koreatown   2.704202     1.562684               0.577872\n",
       "73     Pico-Union   1.670386     0.944300               0.565318"
      ]
     },
     "execution_count": 46,
     "metadata": {},
     "output_type": "execute_result"
    }
   ],
   "source": [
    "hoodsstats.sort_values('pct_of_hood_in_buffer', ascending=False).head()"
   ]
  },
  {
   "cell_type": "code",
   "execution_count": 47,
   "metadata": {},
   "outputs": [
    {
     "data": {
      "text/html": [
       "<div>\n",
       "<style scoped>\n",
       "    .dataframe tbody tr th:only-of-type {\n",
       "        vertical-align: middle;\n",
       "    }\n",
       "\n",
       "    .dataframe tbody tr th {\n",
       "        vertical-align: top;\n",
       "    }\n",
       "\n",
       "    .dataframe thead th {\n",
       "        text-align: right;\n",
       "    }\n",
       "</style>\n",
       "<table border=\"1\" class=\"dataframe\">\n",
       "  <thead>\n",
       "    <tr style=\"text-align: right;\">\n",
       "      <th></th>\n",
       "      <th>name</th>\n",
       "      <th>hood_area</th>\n",
       "      <th>buffer_area</th>\n",
       "      <th>pct_of_hood_in_buffer</th>\n",
       "    </tr>\n",
       "  </thead>\n",
       "  <tbody>\n",
       "    <tr>\n",
       "      <td>15</td>\n",
       "      <td>Century City</td>\n",
       "      <td>0.701697</td>\n",
       "      <td>0.081154</td>\n",
       "      <td>0.115654</td>\n",
       "    </tr>\n",
       "    <tr>\n",
       "      <td>39</td>\n",
       "      <td>Hansen Dam</td>\n",
       "      <td>1.965736</td>\n",
       "      <td>0.220110</td>\n",
       "      <td>0.111973</td>\n",
       "    </tr>\n",
       "    <tr>\n",
       "      <td>107</td>\n",
       "      <td>West Los Angeles</td>\n",
       "      <td>1.050255</td>\n",
       "      <td>0.114821</td>\n",
       "      <td>0.109326</td>\n",
       "    </tr>\n",
       "    <tr>\n",
       "      <td>91</td>\n",
       "      <td>Toluca Lake</td>\n",
       "      <td>1.216980</td>\n",
       "      <td>0.122684</td>\n",
       "      <td>0.100810</td>\n",
       "    </tr>\n",
       "    <tr>\n",
       "      <td>37</td>\n",
       "      <td>Griffith Park</td>\n",
       "      <td>5.835412</td>\n",
       "      <td>0.561094</td>\n",
       "      <td>0.096153</td>\n",
       "    </tr>\n",
       "  </tbody>\n",
       "</table>\n",
       "</div>"
      ],
      "text/plain": [
       "                 name  hood_area  buffer_area  pct_of_hood_in_buffer\n",
       "15       Century City   0.701697     0.081154               0.115654\n",
       "39         Hansen Dam   1.965736     0.220110               0.111973\n",
       "107  West Los Angeles   1.050255     0.114821               0.109326\n",
       "91        Toluca Lake   1.216980     0.122684               0.100810\n",
       "37      Griffith Park   5.835412     0.561094               0.096153"
      ]
     },
     "execution_count": 47,
     "metadata": {},
     "output_type": "execute_result"
    }
   ],
   "source": [
    "hoodsstats.sort_values('pct_of_hood_in_buffer', ascending=False).tail()"
   ]
  },
  {
   "cell_type": "markdown",
   "metadata": {},
   "source": [
    "Create a shapefile of the buffers split up by neighborhood, with all associated stats"
   ]
  },
  {
   "cell_type": "code",
   "execution_count": 48,
   "metadata": {},
   "outputs": [],
   "source": [
    "intersection_gdf = gpd.GeoDataFrame(\n",
    "    hoods[['name','hood_area','buffer_area','pct_of_hood_in_buffer','intersection']],\n",
    "    geometry = 'intersection'\n",
    ")"
   ]
  },
  {
   "cell_type": "code",
   "execution_count": 49,
   "metadata": {
    "scrolled": true
   },
   "outputs": [
    {
     "data": {
      "text/html": [
       "<div>\n",
       "<style scoped>\n",
       "    .dataframe tbody tr th:only-of-type {\n",
       "        vertical-align: middle;\n",
       "    }\n",
       "\n",
       "    .dataframe tbody tr th {\n",
       "        vertical-align: top;\n",
       "    }\n",
       "\n",
       "    .dataframe thead th {\n",
       "        text-align: right;\n",
       "    }\n",
       "</style>\n",
       "<table border=\"1\" class=\"dataframe\">\n",
       "  <thead>\n",
       "    <tr style=\"text-align: right;\">\n",
       "      <th></th>\n",
       "      <th>name</th>\n",
       "      <th>hood_area</th>\n",
       "      <th>buffer_area</th>\n",
       "      <th>pct_of_hood_in_buffer</th>\n",
       "      <th>intersection</th>\n",
       "    </tr>\n",
       "  </thead>\n",
       "  <tbody>\n",
       "    <tr>\n",
       "      <td>0</td>\n",
       "      <td>Adams-Normandie</td>\n",
       "      <td>0.804178</td>\n",
       "      <td>0.265064</td>\n",
       "      <td>0.329608</td>\n",
       "      <td>(POLYGON Z ((156139.6401248094 -440624.6915271...</td>\n",
       "    </tr>\n",
       "    <tr>\n",
       "      <td>1</td>\n",
       "      <td>Arleta</td>\n",
       "      <td>3.088396</td>\n",
       "      <td>0.577992</td>\n",
       "      <td>0.187150</td>\n",
       "      <td>(POLYGON Z ((144763.5458591036 -420290.2059632...</td>\n",
       "    </tr>\n",
       "    <tr>\n",
       "      <td>2</td>\n",
       "      <td>Arlington Heights</td>\n",
       "      <td>1.029528</td>\n",
       "      <td>0.446194</td>\n",
       "      <td>0.433396</td>\n",
       "      <td>(POLYGON Z ((155472.5469032948 -438950.1956037...</td>\n",
       "    </tr>\n",
       "    <tr>\n",
       "      <td>3</td>\n",
       "      <td>Atwater Village</td>\n",
       "      <td>1.777260</td>\n",
       "      <td>0.510772</td>\n",
       "      <td>0.287393</td>\n",
       "      <td>(POLYGON Z ((159169.0786837959 -428119.5991611...</td>\n",
       "    </tr>\n",
       "    <tr>\n",
       "      <td>4</td>\n",
       "      <td>Baldwin Hills/Crenshaw</td>\n",
       "      <td>2.884810</td>\n",
       "      <td>0.944199</td>\n",
       "      <td>0.327300</td>\n",
       "      <td>(POLYGON Z ((151801.1076706515 -442096.1123500...</td>\n",
       "    </tr>\n",
       "  </tbody>\n",
       "</table>\n",
       "</div>"
      ],
      "text/plain": [
       "                     name  hood_area  buffer_area  pct_of_hood_in_buffer  \\\n",
       "0         Adams-Normandie   0.804178     0.265064               0.329608   \n",
       "1                  Arleta   3.088396     0.577992               0.187150   \n",
       "2       Arlington Heights   1.029528     0.446194               0.433396   \n",
       "3         Atwater Village   1.777260     0.510772               0.287393   \n",
       "4  Baldwin Hills/Crenshaw   2.884810     0.944199               0.327300   \n",
       "\n",
       "                                        intersection  \n",
       "0  (POLYGON Z ((156139.6401248094 -440624.6915271...  \n",
       "1  (POLYGON Z ((144763.5458591036 -420290.2059632...  \n",
       "2  (POLYGON Z ((155472.5469032948 -438950.1956037...  \n",
       "3  (POLYGON Z ((159169.0786837959 -428119.5991611...  \n",
       "4  (POLYGON Z ((151801.1076706515 -442096.1123500...  "
      ]
     },
     "execution_count": 49,
     "metadata": {},
     "output_type": "execute_result"
    }
   ],
   "source": [
    "intersection_gdf.head()"
   ]
  },
  {
   "cell_type": "markdown",
   "metadata": {},
   "source": [
    "Reproject back to lat/long for output"
   ]
  },
  {
   "cell_type": "code",
   "execution_count": 50,
   "metadata": {},
   "outputs": [],
   "source": [
    "alldata.drop('withbuffer', axis=1, inplace=True)"
   ]
  },
  {
   "cell_type": "code",
   "execution_count": 51,
   "metadata": {},
   "outputs": [],
   "source": [
    "intersection_gdf.crs = {'init': 'epsg:3310'}\n",
    "finalbuffers.crs = {'init': 'epsg:3310'}\n",
    "alldata.crs = {'init': 'epsg:3310'}"
   ]
  },
  {
   "cell_type": "code",
   "execution_count": 52,
   "metadata": {},
   "outputs": [],
   "source": [
    "intersection_gdf.to_crs({'init': 'epsg:4326'}, inplace=True)\n",
    "finalbuffers.to_crs({'init': 'epsg:4326'}, inplace=True)\n",
    "alldata.to_crs({'init': 'epsg:4326'}, inplace=True)"
   ]
  },
  {
   "cell_type": "code",
   "execution_count": 53,
   "metadata": {},
   "outputs": [
    {
     "data": {
      "text/html": [
       "<div>\n",
       "<style scoped>\n",
       "    .dataframe tbody tr th:only-of-type {\n",
       "        vertical-align: middle;\n",
       "    }\n",
       "\n",
       "    .dataframe tbody tr th {\n",
       "        vertical-align: top;\n",
       "    }\n",
       "\n",
       "    .dataframe thead th {\n",
       "        text-align: right;\n",
       "    }\n",
       "</style>\n",
       "<table border=\"1\" class=\"dataframe\">\n",
       "  <thead>\n",
       "    <tr style=\"text-align: right;\">\n",
       "      <th></th>\n",
       "      <th>name</th>\n",
       "      <th>hood_area</th>\n",
       "      <th>buffer_area</th>\n",
       "      <th>pct_of_hood_in_buffer</th>\n",
       "      <th>intersection</th>\n",
       "    </tr>\n",
       "  </thead>\n",
       "  <tbody>\n",
       "    <tr>\n",
       "      <td>0</td>\n",
       "      <td>Adams-Normandie</td>\n",
       "      <td>0.804178</td>\n",
       "      <td>0.265064</td>\n",
       "      <td>0.329608</td>\n",
       "      <td>(POLYGON Z ((-118.3090080000001 34.03741099912...</td>\n",
       "    </tr>\n",
       "    <tr>\n",
       "      <td>1</td>\n",
       "      <td>Arleta</td>\n",
       "      <td>3.088396</td>\n",
       "      <td>0.577992</td>\n",
       "      <td>0.187150</td>\n",
       "      <td>(POLYGON Z ((-118.428537804243 34.222443969608...</td>\n",
       "    </tr>\n",
       "    <tr>\n",
       "      <td>2</td>\n",
       "      <td>Arlington Heights</td>\n",
       "      <td>1.029528</td>\n",
       "      <td>0.446194</td>\n",
       "      <td>0.433396</td>\n",
       "      <td>(POLYGON Z ((-118.315909 34.05261099912384 0, ...</td>\n",
       "    </tr>\n",
       "    <tr>\n",
       "      <td>3</td>\n",
       "      <td>Atwater Village</td>\n",
       "      <td>1.777260</td>\n",
       "      <td>0.510772</td>\n",
       "      <td>0.287393</td>\n",
       "      <td>(POLYGON Z ((-118.2737407388608 34.14962634824...</td>\n",
       "    </tr>\n",
       "    <tr>\n",
       "      <td>4</td>\n",
       "      <td>Baldwin Hills/Crenshaw</td>\n",
       "      <td>2.884810</td>\n",
       "      <td>0.944199</td>\n",
       "      <td>0.327300</td>\n",
       "      <td>(POLYGON Z ((-118.3562610000001 34.02483599912...</td>\n",
       "    </tr>\n",
       "  </tbody>\n",
       "</table>\n",
       "</div>"
      ],
      "text/plain": [
       "                     name  hood_area  buffer_area  pct_of_hood_in_buffer  \\\n",
       "0         Adams-Normandie   0.804178     0.265064               0.329608   \n",
       "1                  Arleta   3.088396     0.577992               0.187150   \n",
       "2       Arlington Heights   1.029528     0.446194               0.433396   \n",
       "3         Atwater Village   1.777260     0.510772               0.287393   \n",
       "4  Baldwin Hills/Crenshaw   2.884810     0.944199               0.327300   \n",
       "\n",
       "                                        intersection  \n",
       "0  (POLYGON Z ((-118.3090080000001 34.03741099912...  \n",
       "1  (POLYGON Z ((-118.428537804243 34.222443969608...  \n",
       "2  (POLYGON Z ((-118.315909 34.05261099912384 0, ...  \n",
       "3  (POLYGON Z ((-118.2737407388608 34.14962634824...  \n",
       "4  (POLYGON Z ((-118.3562610000001 34.02483599912...  "
      ]
     },
     "execution_count": 53,
     "metadata": {},
     "output_type": "execute_result"
    }
   ],
   "source": [
    "intersection_gdf.head()"
   ]
  },
  {
   "cell_type": "code",
   "execution_count": 54,
   "metadata": {
    "scrolled": true
   },
   "outputs": [
    {
     "data": {
      "text/html": [
       "<div>\n",
       "<style scoped>\n",
       "    .dataframe tbody tr th:only-of-type {\n",
       "        vertical-align: middle;\n",
       "    }\n",
       "\n",
       "    .dataframe tbody tr th {\n",
       "        vertical-align: top;\n",
       "    }\n",
       "\n",
       "    .dataframe thead th {\n",
       "        text-align: right;\n",
       "    }\n",
       "</style>\n",
       "<table border=\"1\" class=\"dataframe\">\n",
       "  <thead>\n",
       "    <tr style=\"text-align: right;\">\n",
       "      <th></th>\n",
       "      <th>geometry</th>\n",
       "    </tr>\n",
       "  </thead>\n",
       "  <tbody>\n",
       "    <tr>\n",
       "      <td>0</td>\n",
       "      <td>(POLYGON Z ((-118.2881095246955 33.72272776229...</td>\n",
       "    </tr>\n",
       "  </tbody>\n",
       "</table>\n",
       "</div>"
      ],
      "text/plain": [
       "                                            geometry\n",
       "0  (POLYGON Z ((-118.2881095246955 33.72272776229..."
      ]
     },
     "execution_count": 54,
     "metadata": {},
     "output_type": "execute_result"
    }
   ],
   "source": [
    "finalbuffers.head()"
   ]
  },
  {
   "cell_type": "code",
   "execution_count": 55,
   "metadata": {},
   "outputs": [
    {
     "data": {
      "text/html": [
       "<div>\n",
       "<style scoped>\n",
       "    .dataframe tbody tr th:only-of-type {\n",
       "        vertical-align: middle;\n",
       "    }\n",
       "\n",
       "    .dataframe tbody tr th {\n",
       "        vertical-align: top;\n",
       "    }\n",
       "\n",
       "    .dataframe thead th {\n",
       "        text-align: right;\n",
       "    }\n",
       "</style>\n",
       "<table border=\"1\" class=\"dataframe\">\n",
       "  <thead>\n",
       "    <tr style=\"text-align: right;\">\n",
       "      <th></th>\n",
       "      <th>geometry</th>\n",
       "      <th>category</th>\n",
       "      <th>area</th>\n",
       "    </tr>\n",
       "  </thead>\n",
       "  <tbody>\n",
       "    <tr>\n",
       "      <td>0</td>\n",
       "      <td>POLYGON ((-118.2428240143944 34.04468561560458...</td>\n",
       "      <td>homeless</td>\n",
       "      <td>0.000647</td>\n",
       "    </tr>\n",
       "    <tr>\n",
       "      <td>1</td>\n",
       "      <td>POLYGON ((-118.2916493156461 33.99554268659588...</td>\n",
       "      <td>homeless</td>\n",
       "      <td>0.000216</td>\n",
       "    </tr>\n",
       "    <tr>\n",
       "      <td>2</td>\n",
       "      <td>POLYGON ((-118.2760761217427 33.95330442315542...</td>\n",
       "      <td>homeless</td>\n",
       "      <td>0.000179</td>\n",
       "    </tr>\n",
       "    <tr>\n",
       "      <td>3</td>\n",
       "      <td>POLYGON ((-118.2760761217427 33.95330442315542...</td>\n",
       "      <td>homeless</td>\n",
       "      <td>0.000179</td>\n",
       "    </tr>\n",
       "    <tr>\n",
       "      <td>4</td>\n",
       "      <td>POLYGON ((-118.2709667281731 34.06208810607586...</td>\n",
       "      <td>homeless</td>\n",
       "      <td>0.000238</td>\n",
       "    </tr>\n",
       "  </tbody>\n",
       "</table>\n",
       "</div>"
      ],
      "text/plain": [
       "                                            geometry  category      area\n",
       "0  POLYGON ((-118.2428240143944 34.04468561560458...  homeless  0.000647\n",
       "1  POLYGON ((-118.2916493156461 33.99554268659588...  homeless  0.000216\n",
       "2  POLYGON ((-118.2760761217427 33.95330442315542...  homeless  0.000179\n",
       "3  POLYGON ((-118.2760761217427 33.95330442315542...  homeless  0.000179\n",
       "4  POLYGON ((-118.2709667281731 34.06208810607586...  homeless  0.000238"
      ]
     },
     "execution_count": 55,
     "metadata": {},
     "output_type": "execute_result"
    }
   ],
   "source": [
    "alldata.head()"
   ]
  },
  {
   "cell_type": "markdown",
   "metadata": {},
   "source": [
    "Export spatial files"
   ]
  },
  {
   "cell_type": "code",
   "execution_count": 56,
   "metadata": {},
   "outputs": [],
   "source": [
    "finalbuffers.to_file('output/buffers/combined-buffers.geojson', driver='GeoJSON')\n",
    "intersection_gdf.to_file('output/buffers/buffers-by-hood.geojson', driver='GeoJSON')\n",
    "alldata.to_file('output/buffers/all-proposal-properties.geojson', driver='GeoJSON')"
   ]
  },
  {
   "cell_type": "markdown",
   "metadata": {},
   "source": [
    "Export neighborhood data"
   ]
  },
  {
   "cell_type": "code",
   "execution_count": 57,
   "metadata": {},
   "outputs": [],
   "source": [
    "hoodsstats\\\n",
    ".sort_values('pct_of_hood_in_buffer', ascending=False)\\\n",
    ".to_csv('output/buffers/buffers-by-hood-breakdown.csv', index=False)"
   ]
  },
  {
   "cell_type": "code",
   "execution_count": null,
   "metadata": {},
   "outputs": [],
   "source": []
  }
 ],
 "metadata": {
  "kernelspec": {
   "display_name": "Python 3",
   "language": "python",
   "name": "python3"
  },
  "language_info": {
   "codemirror_mode": {
    "name": "ipython",
    "version": 3
   },
   "file_extension": ".py",
   "mimetype": "text/x-python",
   "name": "python",
   "nbconvert_exporter": "python",
   "pygments_lexer": "ipython3",
   "version": "3.7.3"
  }
 },
 "nbformat": 4,
 "nbformat_minor": 2
}
