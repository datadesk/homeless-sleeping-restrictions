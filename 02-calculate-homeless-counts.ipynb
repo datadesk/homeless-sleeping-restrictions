{
 "cells": [
  {
   "cell_type": "markdown",
   "metadata": {},
   "source": [
    "# Estimating how many homeless people would be impacted"
   ]
  },
  {
   "cell_type": "code",
   "execution_count": 1,
   "metadata": {},
   "outputs": [],
   "source": [
    "import pandas as pd\n",
    "import geopandas as gpd\n",
    "import matplotlib.pyplot as plt\n",
    "%matplotlib inline"
   ]
  },
  {
   "cell_type": "markdown",
   "metadata": {},
   "source": [
    "Data from the Los Angeles Homeless Service Authority. These are the result of its [2019 count at the tract level](https://www.lahsa.org/documents?id=3493-homeless-count-2019-results-by-census-tract.xlsx) for the entire county, except for three cities that conduct their own counts (Long Beach, Glendale and Pasadena)."
   ]
  },
  {
   "cell_type": "code",
   "execution_count": 2,
   "metadata": {},
   "outputs": [],
   "source": [
    "hlcount = pd.read_excel(\n",
    "    'input/homelesscount/homeless-count-2019-results-by-census-tract.xlsx',\n",
    "    sheet_name='Counts_by_Tract',\n",
    "    dtype={'tract':str}\n",
    ")"
   ]
  },
  {
   "cell_type": "code",
   "execution_count": 3,
   "metadata": {
    "scrolled": false
   },
   "outputs": [
    {
     "data": {
      "text/html": [
       "<div>\n",
       "<style scoped>\n",
       "    .dataframe tbody tr th:only-of-type {\n",
       "        vertical-align: middle;\n",
       "    }\n",
       "\n",
       "    .dataframe tbody tr th {\n",
       "        vertical-align: top;\n",
       "    }\n",
       "\n",
       "    .dataframe thead th {\n",
       "        text-align: right;\n",
       "    }\n",
       "</style>\n",
       "<table border=\"1\" class=\"dataframe\">\n",
       "  <thead>\n",
       "    <tr style=\"text-align: right;\">\n",
       "      <th></th>\n",
       "      <th>tract</th>\n",
       "      <th>Year</th>\n",
       "      <th>City</th>\n",
       "      <th>LACity</th>\n",
       "      <th>Community_Name</th>\n",
       "      <th>SPA</th>\n",
       "      <th>SD</th>\n",
       "      <th>CD</th>\n",
       "      <th>DemogSurvCt</th>\n",
       "      <th>YouthSurvCt</th>\n",
       "      <th>...</th>\n",
       "      <th>totSHYouthSingYouth</th>\n",
       "      <th>totSHYouthFamHH</th>\n",
       "      <th>totSHYouthFamMem</th>\n",
       "      <th>totSHYouthUnaccYouth</th>\n",
       "      <th>totUnsheltPeople</th>\n",
       "      <th>totESPeople</th>\n",
       "      <th>totTHPeople</th>\n",
       "      <th>totSHPeople</th>\n",
       "      <th>totSheltPeople</th>\n",
       "      <th>totPeople</th>\n",
       "    </tr>\n",
       "  </thead>\n",
       "  <tbody>\n",
       "    <tr>\n",
       "      <td>0</td>\n",
       "      <td>101110</td>\n",
       "      <td>2019</td>\n",
       "      <td>Los Angeles</td>\n",
       "      <td>1</td>\n",
       "      <td>Tujunga</td>\n",
       "      <td>2</td>\n",
       "      <td>5</td>\n",
       "      <td>7</td>\n",
       "      <td>0</td>\n",
       "      <td>1</td>\n",
       "      <td>...</td>\n",
       "      <td>0</td>\n",
       "      <td>0</td>\n",
       "      <td>0</td>\n",
       "      <td>0</td>\n",
       "      <td>12.614</td>\n",
       "      <td>0</td>\n",
       "      <td>0.0</td>\n",
       "      <td>0</td>\n",
       "      <td>0</td>\n",
       "      <td>12.614</td>\n",
       "    </tr>\n",
       "    <tr>\n",
       "      <td>1</td>\n",
       "      <td>101122</td>\n",
       "      <td>2019</td>\n",
       "      <td>Los Angeles</td>\n",
       "      <td>1</td>\n",
       "      <td>Tujunga</td>\n",
       "      <td>2</td>\n",
       "      <td>5</td>\n",
       "      <td>7</td>\n",
       "      <td>0</td>\n",
       "      <td>0</td>\n",
       "      <td>...</td>\n",
       "      <td>0</td>\n",
       "      <td>0</td>\n",
       "      <td>0</td>\n",
       "      <td>0</td>\n",
       "      <td>1.000</td>\n",
       "      <td>0</td>\n",
       "      <td>0.0</td>\n",
       "      <td>0</td>\n",
       "      <td>0</td>\n",
       "      <td>1.000</td>\n",
       "    </tr>\n",
       "    <tr>\n",
       "      <td>2</td>\n",
       "      <td>101210</td>\n",
       "      <td>2019</td>\n",
       "      <td>Los Angeles</td>\n",
       "      <td>1</td>\n",
       "      <td>Tujunga</td>\n",
       "      <td>2</td>\n",
       "      <td>5</td>\n",
       "      <td>7</td>\n",
       "      <td>0</td>\n",
       "      <td>0</td>\n",
       "      <td>...</td>\n",
       "      <td>0</td>\n",
       "      <td>0</td>\n",
       "      <td>0</td>\n",
       "      <td>0</td>\n",
       "      <td>14.517</td>\n",
       "      <td>0</td>\n",
       "      <td>0.0</td>\n",
       "      <td>0</td>\n",
       "      <td>0</td>\n",
       "      <td>14.517</td>\n",
       "    </tr>\n",
       "    <tr>\n",
       "      <td>3</td>\n",
       "      <td>101220</td>\n",
       "      <td>2019</td>\n",
       "      <td>Los Angeles</td>\n",
       "      <td>1</td>\n",
       "      <td>Tujunga</td>\n",
       "      <td>2</td>\n",
       "      <td>5</td>\n",
       "      <td>7</td>\n",
       "      <td>0</td>\n",
       "      <td>0</td>\n",
       "      <td>...</td>\n",
       "      <td>0</td>\n",
       "      <td>0</td>\n",
       "      <td>0</td>\n",
       "      <td>0</td>\n",
       "      <td>24.058</td>\n",
       "      <td>0</td>\n",
       "      <td>0.0</td>\n",
       "      <td>0</td>\n",
       "      <td>0</td>\n",
       "      <td>24.058</td>\n",
       "    </tr>\n",
       "    <tr>\n",
       "      <td>4</td>\n",
       "      <td>101300</td>\n",
       "      <td>2019</td>\n",
       "      <td>Los Angeles</td>\n",
       "      <td>1</td>\n",
       "      <td>Tujunga</td>\n",
       "      <td>2</td>\n",
       "      <td>5</td>\n",
       "      <td>7</td>\n",
       "      <td>0</td>\n",
       "      <td>0</td>\n",
       "      <td>...</td>\n",
       "      <td>0</td>\n",
       "      <td>0</td>\n",
       "      <td>0</td>\n",
       "      <td>0</td>\n",
       "      <td>9.278</td>\n",
       "      <td>0</td>\n",
       "      <td>0.0</td>\n",
       "      <td>0</td>\n",
       "      <td>0</td>\n",
       "      <td>9.278</td>\n",
       "    </tr>\n",
       "  </tbody>\n",
       "</table>\n",
       "<p>5 rows × 68 columns</p>\n",
       "</div>"
      ],
      "text/plain": [
       "    tract  Year         City  LACity Community_Name  SPA  SD  CD  DemogSurvCt  \\\n",
       "0  101110  2019  Los Angeles       1        Tujunga    2   5   7            0   \n",
       "1  101122  2019  Los Angeles       1        Tujunga    2   5   7            0   \n",
       "2  101210  2019  Los Angeles       1        Tujunga    2   5   7            0   \n",
       "3  101220  2019  Los Angeles       1        Tujunga    2   5   7            0   \n",
       "4  101300  2019  Los Angeles       1        Tujunga    2   5   7            0   \n",
       "\n",
       "   YouthSurvCt  ...  totSHYouthSingYouth  totSHYouthFamHH  totSHYouthFamMem  \\\n",
       "0            1  ...                    0                0                 0   \n",
       "1            0  ...                    0                0                 0   \n",
       "2            0  ...                    0                0                 0   \n",
       "3            0  ...                    0                0                 0   \n",
       "4            0  ...                    0                0                 0   \n",
       "\n",
       "   totSHYouthUnaccYouth  totUnsheltPeople  totESPeople  totTHPeople  \\\n",
       "0                     0            12.614            0          0.0   \n",
       "1                     0             1.000            0          0.0   \n",
       "2                     0            14.517            0          0.0   \n",
       "3                     0            24.058            0          0.0   \n",
       "4                     0             9.278            0          0.0   \n",
       "\n",
       "   totSHPeople  totSheltPeople  totPeople  \n",
       "0            0               0     12.614  \n",
       "1            0               0      1.000  \n",
       "2            0               0     14.517  \n",
       "3            0               0     24.058  \n",
       "4            0               0      9.278  \n",
       "\n",
       "[5 rows x 68 columns]"
      ]
     },
     "execution_count": 3,
     "metadata": {},
     "output_type": "execute_result"
    }
   ],
   "source": [
    "hlcount.head()"
   ]
  },
  {
   "cell_type": "code",
   "execution_count": 4,
   "metadata": {},
   "outputs": [
    {
     "data": {
      "text/plain": [
       "2163"
      ]
     },
     "execution_count": 4,
     "metadata": {},
     "output_type": "execute_result"
    }
   ],
   "source": [
    "len(hlcount)"
   ]
  },
  {
   "cell_type": "markdown",
   "metadata": {},
   "source": [
    "**To gauge the impact of the analysis, we need to focus on the population of homeless people estimated to sleep outside and *not* those in cars, vans or other vehicles. We'll tabulate both the total unsheltered population and the subset presumed to be sleeping outside.**"
   ]
  },
  {
   "cell_type": "code",
   "execution_count": 5,
   "metadata": {},
   "outputs": [],
   "source": [
    "hlcount['totOutsidePeople'] = \\\n",
    "hlcount.totStreetSingAdult + hlcount.totTentPeople + hlcount.totMakeshiftPeople"
   ]
  },
  {
   "cell_type": "code",
   "execution_count": 6,
   "metadata": {},
   "outputs": [],
   "source": [
    "hlcounttrimmed = hlcount[['tract','totUnsheltPeople','totOutsidePeople']]"
   ]
  },
  {
   "cell_type": "code",
   "execution_count": 7,
   "metadata": {},
   "outputs": [
    {
     "data": {
      "text/html": [
       "<div>\n",
       "<style scoped>\n",
       "    .dataframe tbody tr th:only-of-type {\n",
       "        vertical-align: middle;\n",
       "    }\n",
       "\n",
       "    .dataframe tbody tr th {\n",
       "        vertical-align: top;\n",
       "    }\n",
       "\n",
       "    .dataframe thead th {\n",
       "        text-align: right;\n",
       "    }\n",
       "</style>\n",
       "<table border=\"1\" class=\"dataframe\">\n",
       "  <thead>\n",
       "    <tr style=\"text-align: right;\">\n",
       "      <th></th>\n",
       "      <th>tract</th>\n",
       "      <th>totUnsheltPeople</th>\n",
       "      <th>totOutsidePeople</th>\n",
       "    </tr>\n",
       "  </thead>\n",
       "  <tbody>\n",
       "    <tr>\n",
       "      <td>0</td>\n",
       "      <td>101110</td>\n",
       "      <td>12.614</td>\n",
       "      <td>1.000</td>\n",
       "    </tr>\n",
       "    <tr>\n",
       "      <td>1</td>\n",
       "      <td>101122</td>\n",
       "      <td>1.000</td>\n",
       "      <td>1.000</td>\n",
       "    </tr>\n",
       "    <tr>\n",
       "      <td>2</td>\n",
       "      <td>101210</td>\n",
       "      <td>14.517</td>\n",
       "      <td>6.047</td>\n",
       "    </tr>\n",
       "    <tr>\n",
       "      <td>3</td>\n",
       "      <td>101220</td>\n",
       "      <td>24.058</td>\n",
       "      <td>6.196</td>\n",
       "    </tr>\n",
       "    <tr>\n",
       "      <td>4</td>\n",
       "      <td>101300</td>\n",
       "      <td>9.278</td>\n",
       "      <td>4.196</td>\n",
       "    </tr>\n",
       "  </tbody>\n",
       "</table>\n",
       "</div>"
      ],
      "text/plain": [
       "    tract  totUnsheltPeople  totOutsidePeople\n",
       "0  101110            12.614             1.000\n",
       "1  101122             1.000             1.000\n",
       "2  101210            14.517             6.047\n",
       "3  101220            24.058             6.196\n",
       "4  101300             9.278             4.196"
      ]
     },
     "execution_count": 7,
     "metadata": {},
     "output_type": "execute_result"
    }
   ],
   "source": [
    "hlcounttrimmed.head()"
   ]
  },
  {
   "cell_type": "markdown",
   "metadata": {},
   "source": [
    "Get our \"apportioned\" tracts"
   ]
  },
  {
   "cell_type": "code",
   "execution_count": 8,
   "metadata": {},
   "outputs": [],
   "source": [
    "tracthood = pd.read_csv('input/neighborhoods/tract-neighborhood-allocation.csv', dtype={'tract':str})"
   ]
  },
  {
   "cell_type": "code",
   "execution_count": 9,
   "metadata": {},
   "outputs": [],
   "source": [
    "tracthood['tract'] = tracthood['tract'].str.slice(start=-6)"
   ]
  },
  {
   "cell_type": "code",
   "execution_count": 10,
   "metadata": {},
   "outputs": [
    {
     "data": {
      "text/html": [
       "<div>\n",
       "<style scoped>\n",
       "    .dataframe tbody tr th:only-of-type {\n",
       "        vertical-align: middle;\n",
       "    }\n",
       "\n",
       "    .dataframe tbody tr th {\n",
       "        vertical-align: top;\n",
       "    }\n",
       "\n",
       "    .dataframe thead th {\n",
       "        text-align: right;\n",
       "    }\n",
       "</style>\n",
       "<table border=\"1\" class=\"dataframe\">\n",
       "  <thead>\n",
       "    <tr style=\"text-align: right;\">\n",
       "      <th></th>\n",
       "      <th>tract</th>\n",
       "      <th>name</th>\n",
       "      <th>tract_percent</th>\n",
       "    </tr>\n",
       "  </thead>\n",
       "  <tbody>\n",
       "    <tr>\n",
       "      <td>0</td>\n",
       "      <td>101110</td>\n",
       "      <td>Tujunga</td>\n",
       "      <td>1.000000</td>\n",
       "    </tr>\n",
       "    <tr>\n",
       "      <td>1</td>\n",
       "      <td>101122</td>\n",
       "      <td>Sunland</td>\n",
       "      <td>0.003235</td>\n",
       "    </tr>\n",
       "    <tr>\n",
       "      <td>2</td>\n",
       "      <td>101122</td>\n",
       "      <td>Tujunga</td>\n",
       "      <td>0.996765</td>\n",
       "    </tr>\n",
       "    <tr>\n",
       "      <td>3</td>\n",
       "      <td>101210</td>\n",
       "      <td>Tujunga</td>\n",
       "      <td>1.000000</td>\n",
       "    </tr>\n",
       "    <tr>\n",
       "      <td>4</td>\n",
       "      <td>101220</td>\n",
       "      <td>Tujunga</td>\n",
       "      <td>1.000000</td>\n",
       "    </tr>\n",
       "  </tbody>\n",
       "</table>\n",
       "</div>"
      ],
      "text/plain": [
       "    tract     name  tract_percent\n",
       "0  101110  Tujunga       1.000000\n",
       "1  101122  Sunland       0.003235\n",
       "2  101122  Tujunga       0.996765\n",
       "3  101210  Tujunga       1.000000\n",
       "4  101220  Tujunga       1.000000"
      ]
     },
     "execution_count": 10,
     "metadata": {},
     "output_type": "execute_result"
    }
   ],
   "source": [
    "tracthood.head()"
   ]
  },
  {
   "cell_type": "code",
   "execution_count": 11,
   "metadata": {},
   "outputs": [
    {
     "data": {
      "text/plain": [
       "2023"
      ]
     },
     "execution_count": 11,
     "metadata": {},
     "output_type": "execute_result"
    }
   ],
   "source": [
    "len(tracthood)"
   ]
  },
  {
   "cell_type": "markdown",
   "metadata": {},
   "source": [
    "Merge the two data sets"
   ]
  },
  {
   "cell_type": "code",
   "execution_count": 12,
   "metadata": {},
   "outputs": [],
   "source": [
    "merged = pd.merge(\n",
    "    hlcounttrimmed,\n",
    "    tracthood\n",
    ")"
   ]
  },
  {
   "cell_type": "code",
   "execution_count": 13,
   "metadata": {},
   "outputs": [
    {
     "data": {
      "text/html": [
       "<div>\n",
       "<style scoped>\n",
       "    .dataframe tbody tr th:only-of-type {\n",
       "        vertical-align: middle;\n",
       "    }\n",
       "\n",
       "    .dataframe tbody tr th {\n",
       "        vertical-align: top;\n",
       "    }\n",
       "\n",
       "    .dataframe thead th {\n",
       "        text-align: right;\n",
       "    }\n",
       "</style>\n",
       "<table border=\"1\" class=\"dataframe\">\n",
       "  <thead>\n",
       "    <tr style=\"text-align: right;\">\n",
       "      <th></th>\n",
       "      <th>tract</th>\n",
       "      <th>totUnsheltPeople</th>\n",
       "      <th>totOutsidePeople</th>\n",
       "      <th>name</th>\n",
       "      <th>tract_percent</th>\n",
       "    </tr>\n",
       "  </thead>\n",
       "  <tbody>\n",
       "    <tr>\n",
       "      <td>0</td>\n",
       "      <td>101110</td>\n",
       "      <td>12.614</td>\n",
       "      <td>1.000</td>\n",
       "      <td>Tujunga</td>\n",
       "      <td>1.000000</td>\n",
       "    </tr>\n",
       "    <tr>\n",
       "      <td>1</td>\n",
       "      <td>101122</td>\n",
       "      <td>1.000</td>\n",
       "      <td>1.000</td>\n",
       "      <td>Sunland</td>\n",
       "      <td>0.003235</td>\n",
       "    </tr>\n",
       "    <tr>\n",
       "      <td>2</td>\n",
       "      <td>101122</td>\n",
       "      <td>1.000</td>\n",
       "      <td>1.000</td>\n",
       "      <td>Tujunga</td>\n",
       "      <td>0.996765</td>\n",
       "    </tr>\n",
       "    <tr>\n",
       "      <td>3</td>\n",
       "      <td>101210</td>\n",
       "      <td>14.517</td>\n",
       "      <td>6.047</td>\n",
       "      <td>Tujunga</td>\n",
       "      <td>1.000000</td>\n",
       "    </tr>\n",
       "    <tr>\n",
       "      <td>4</td>\n",
       "      <td>101220</td>\n",
       "      <td>24.058</td>\n",
       "      <td>6.196</td>\n",
       "      <td>Tujunga</td>\n",
       "      <td>1.000000</td>\n",
       "    </tr>\n",
       "  </tbody>\n",
       "</table>\n",
       "</div>"
      ],
      "text/plain": [
       "    tract  totUnsheltPeople  totOutsidePeople     name  tract_percent\n",
       "0  101110            12.614             1.000  Tujunga       1.000000\n",
       "1  101122             1.000             1.000  Sunland       0.003235\n",
       "2  101122             1.000             1.000  Tujunga       0.996765\n",
       "3  101210            14.517             6.047  Tujunga       1.000000\n",
       "4  101220            24.058             6.196  Tujunga       1.000000"
      ]
     },
     "execution_count": 13,
     "metadata": {},
     "output_type": "execute_result"
    }
   ],
   "source": [
    "merged.head()"
   ]
  },
  {
   "cell_type": "code",
   "execution_count": 14,
   "metadata": {},
   "outputs": [
    {
     "data": {
      "text/plain": [
       "1995"
      ]
     },
     "execution_count": 14,
     "metadata": {},
     "output_type": "execute_result"
    }
   ],
   "source": [
    "len(merged)"
   ]
  },
  {
   "cell_type": "markdown",
   "metadata": {},
   "source": [
    "Use the multiplier to split up the populations into their neighborhoods"
   ]
  },
  {
   "cell_type": "code",
   "execution_count": 15,
   "metadata": {},
   "outputs": [],
   "source": [
    "merged['totUnsheltPeoplePortion'] = merged['totUnsheltPeople'] * merged['tract_percent']\n",
    "merged['totOutsidePeoplePortion'] = merged['totOutsidePeople'] * merged['tract_percent']"
   ]
  },
  {
   "cell_type": "code",
   "execution_count": 16,
   "metadata": {},
   "outputs": [
    {
     "data": {
      "text/html": [
       "<div>\n",
       "<style scoped>\n",
       "    .dataframe tbody tr th:only-of-type {\n",
       "        vertical-align: middle;\n",
       "    }\n",
       "\n",
       "    .dataframe tbody tr th {\n",
       "        vertical-align: top;\n",
       "    }\n",
       "\n",
       "    .dataframe thead th {\n",
       "        text-align: right;\n",
       "    }\n",
       "</style>\n",
       "<table border=\"1\" class=\"dataframe\">\n",
       "  <thead>\n",
       "    <tr style=\"text-align: right;\">\n",
       "      <th></th>\n",
       "      <th>tract</th>\n",
       "      <th>totUnsheltPeople</th>\n",
       "      <th>totOutsidePeople</th>\n",
       "      <th>name</th>\n",
       "      <th>tract_percent</th>\n",
       "      <th>totUnsheltPeoplePortion</th>\n",
       "      <th>totOutsidePeoplePortion</th>\n",
       "    </tr>\n",
       "  </thead>\n",
       "  <tbody>\n",
       "    <tr>\n",
       "      <td>0</td>\n",
       "      <td>101110</td>\n",
       "      <td>12.614</td>\n",
       "      <td>1.000</td>\n",
       "      <td>Tujunga</td>\n",
       "      <td>1.000000</td>\n",
       "      <td>12.614000</td>\n",
       "      <td>1.000000</td>\n",
       "    </tr>\n",
       "    <tr>\n",
       "      <td>1</td>\n",
       "      <td>101122</td>\n",
       "      <td>1.000</td>\n",
       "      <td>1.000</td>\n",
       "      <td>Sunland</td>\n",
       "      <td>0.003235</td>\n",
       "      <td>0.003235</td>\n",
       "      <td>0.003235</td>\n",
       "    </tr>\n",
       "    <tr>\n",
       "      <td>2</td>\n",
       "      <td>101122</td>\n",
       "      <td>1.000</td>\n",
       "      <td>1.000</td>\n",
       "      <td>Tujunga</td>\n",
       "      <td>0.996765</td>\n",
       "      <td>0.996765</td>\n",
       "      <td>0.996765</td>\n",
       "    </tr>\n",
       "    <tr>\n",
       "      <td>3</td>\n",
       "      <td>101210</td>\n",
       "      <td>14.517</td>\n",
       "      <td>6.047</td>\n",
       "      <td>Tujunga</td>\n",
       "      <td>1.000000</td>\n",
       "      <td>14.517000</td>\n",
       "      <td>6.047000</td>\n",
       "    </tr>\n",
       "    <tr>\n",
       "      <td>4</td>\n",
       "      <td>101220</td>\n",
       "      <td>24.058</td>\n",
       "      <td>6.196</td>\n",
       "      <td>Tujunga</td>\n",
       "      <td>1.000000</td>\n",
       "      <td>24.058000</td>\n",
       "      <td>6.196000</td>\n",
       "    </tr>\n",
       "  </tbody>\n",
       "</table>\n",
       "</div>"
      ],
      "text/plain": [
       "    tract  totUnsheltPeople  totOutsidePeople     name  tract_percent  \\\n",
       "0  101110            12.614             1.000  Tujunga       1.000000   \n",
       "1  101122             1.000             1.000  Sunland       0.003235   \n",
       "2  101122             1.000             1.000  Tujunga       0.996765   \n",
       "3  101210            14.517             6.047  Tujunga       1.000000   \n",
       "4  101220            24.058             6.196  Tujunga       1.000000   \n",
       "\n",
       "   totUnsheltPeoplePortion  totOutsidePeoplePortion  \n",
       "0                12.614000                 1.000000  \n",
       "1                 0.003235                 0.003235  \n",
       "2                 0.996765                 0.996765  \n",
       "3                14.517000                 6.047000  \n",
       "4                24.058000                 6.196000  "
      ]
     },
     "execution_count": 16,
     "metadata": {},
     "output_type": "execute_result"
    }
   ],
   "source": [
    "merged.head()"
   ]
  },
  {
   "cell_type": "markdown",
   "metadata": {},
   "source": [
    "Aggregate up by neighborhood"
   ]
  },
  {
   "cell_type": "code",
   "execution_count": 17,
   "metadata": {},
   "outputs": [],
   "source": [
    "totalsbyhood = merged.groupby('name')\\\n",
    "[['totUnsheltPeoplePortion','totOutsidePeoplePortion']]\\\n",
    ".sum()\\\n",
    ".reset_index()\\\n",
    ".sort_values('totOutsidePeoplePortion', ascending=False)"
   ]
  },
  {
   "cell_type": "code",
   "execution_count": 18,
   "metadata": {},
   "outputs": [
    {
     "data": {
      "text/plain": [
       "115"
      ]
     },
     "execution_count": 18,
     "metadata": {},
     "output_type": "execute_result"
    }
   ],
   "source": [
    "len(totalsbyhood)"
   ]
  },
  {
   "cell_type": "code",
   "execution_count": 19,
   "metadata": {},
   "outputs": [],
   "source": [
    "totalsbyhood.columns = ['name','unsheltered','unshelteredoutside']"
   ]
  },
  {
   "cell_type": "markdown",
   "metadata": {},
   "source": [
    "**What neighborhoods have the most and least homeless people sleeping outside?**"
   ]
  },
  {
   "cell_type": "code",
   "execution_count": 20,
   "metadata": {},
   "outputs": [
    {
     "data": {
      "text/html": [
       "<div>\n",
       "<style scoped>\n",
       "    .dataframe tbody tr th:only-of-type {\n",
       "        vertical-align: middle;\n",
       "    }\n",
       "\n",
       "    .dataframe tbody tr th {\n",
       "        vertical-align: top;\n",
       "    }\n",
       "\n",
       "    .dataframe thead th {\n",
       "        text-align: right;\n",
       "    }\n",
       "</style>\n",
       "<table border=\"1\" class=\"dataframe\">\n",
       "  <thead>\n",
       "    <tr style=\"text-align: right;\">\n",
       "      <th></th>\n",
       "      <th>name</th>\n",
       "      <th>unsheltered</th>\n",
       "      <th>unshelteredoutside</th>\n",
       "    </tr>\n",
       "  </thead>\n",
       "  <tbody>\n",
       "    <tr>\n",
       "      <td>23</td>\n",
       "      <td>Downtown</td>\n",
       "      <td>2477.656050</td>\n",
       "      <td>2298.862691</td>\n",
       "    </tr>\n",
       "    <tr>\n",
       "      <td>86</td>\n",
       "      <td>Skid Row</td>\n",
       "      <td>1560.699515</td>\n",
       "      <td>1511.234336</td>\n",
       "    </tr>\n",
       "    <tr>\n",
       "      <td>109</td>\n",
       "      <td>Westlake</td>\n",
       "      <td>1239.655588</td>\n",
       "      <td>921.219987</td>\n",
       "    </tr>\n",
       "    <tr>\n",
       "      <td>46</td>\n",
       "      <td>Historic South-Central</td>\n",
       "      <td>944.710611</td>\n",
       "      <td>673.731808</td>\n",
       "    </tr>\n",
       "    <tr>\n",
       "      <td>47</td>\n",
       "      <td>Hollywood</td>\n",
       "      <td>1191.539096</td>\n",
       "      <td>634.890246</td>\n",
       "    </tr>\n",
       "    <tr>\n",
       "      <td>99</td>\n",
       "      <td>Venice</td>\n",
       "      <td>1091.534800</td>\n",
       "      <td>567.493195</td>\n",
       "    </tr>\n",
       "    <tr>\n",
       "      <td>9</td>\n",
       "      <td>Boyle Heights</td>\n",
       "      <td>869.935630</td>\n",
       "      <td>512.306282</td>\n",
       "    </tr>\n",
       "    <tr>\n",
       "      <td>52</td>\n",
       "      <td>Koreatown</td>\n",
       "      <td>568.309486</td>\n",
       "      <td>440.784516</td>\n",
       "    </tr>\n",
       "    <tr>\n",
       "      <td>25</td>\n",
       "      <td>East Hollywood</td>\n",
       "      <td>528.656377</td>\n",
       "      <td>362.502867</td>\n",
       "    </tr>\n",
       "    <tr>\n",
       "      <td>98</td>\n",
       "      <td>Van Nuys</td>\n",
       "      <td>675.235038</td>\n",
       "      <td>327.020823</td>\n",
       "    </tr>\n",
       "  </tbody>\n",
       "</table>\n",
       "</div>"
      ],
      "text/plain": [
       "                       name  unsheltered  unshelteredoutside\n",
       "23                 Downtown  2477.656050         2298.862691\n",
       "86                 Skid Row  1560.699515         1511.234336\n",
       "109                Westlake  1239.655588          921.219987\n",
       "46   Historic South-Central   944.710611          673.731808\n",
       "47                Hollywood  1191.539096          634.890246\n",
       "99                   Venice  1091.534800          567.493195\n",
       "9             Boyle Heights   869.935630          512.306282\n",
       "52                Koreatown   568.309486          440.784516\n",
       "25           East Hollywood   528.656377          362.502867\n",
       "98                 Van Nuys   675.235038          327.020823"
      ]
     },
     "execution_count": 20,
     "metadata": {},
     "output_type": "execute_result"
    }
   ],
   "source": [
    "totalsbyhood.sort_values('unshelteredoutside', ascending=False).head(10)"
   ]
  },
  {
   "cell_type": "code",
   "execution_count": 21,
   "metadata": {},
   "outputs": [
    {
     "data": {
      "text/html": [
       "<div>\n",
       "<style scoped>\n",
       "    .dataframe tbody tr th:only-of-type {\n",
       "        vertical-align: middle;\n",
       "    }\n",
       "\n",
       "    .dataframe tbody tr th {\n",
       "        vertical-align: top;\n",
       "    }\n",
       "\n",
       "    .dataframe thead th {\n",
       "        text-align: right;\n",
       "    }\n",
       "</style>\n",
       "<table border=\"1\" class=\"dataframe\">\n",
       "  <thead>\n",
       "    <tr style=\"text-align: right;\">\n",
       "      <th></th>\n",
       "      <th>name</th>\n",
       "      <th>unsheltered</th>\n",
       "      <th>unshelteredoutside</th>\n",
       "    </tr>\n",
       "  </thead>\n",
       "  <tbody>\n",
       "    <tr>\n",
       "      <td>29</td>\n",
       "      <td>Elysian Valley</td>\n",
       "      <td>65.166004</td>\n",
       "      <td>6.713450</td>\n",
       "    </tr>\n",
       "    <tr>\n",
       "      <td>53</td>\n",
       "      <td>Lake Balboa</td>\n",
       "      <td>23.329680</td>\n",
       "      <td>6.488715</td>\n",
       "    </tr>\n",
       "    <tr>\n",
       "      <td>49</td>\n",
       "      <td>Hollywood Hills West</td>\n",
       "      <td>6.521895</td>\n",
       "      <td>5.432202</td>\n",
       "    </tr>\n",
       "    <tr>\n",
       "      <td>8</td>\n",
       "      <td>Beverlywood</td>\n",
       "      <td>11.621459</td>\n",
       "      <td>5.298418</td>\n",
       "    </tr>\n",
       "    <tr>\n",
       "      <td>15</td>\n",
       "      <td>Century City</td>\n",
       "      <td>6.952370</td>\n",
       "      <td>3.265168</td>\n",
       "    </tr>\n",
       "    <tr>\n",
       "      <td>55</td>\n",
       "      <td>Larchmont</td>\n",
       "      <td>3.229615</td>\n",
       "      <td>3.129461</td>\n",
       "    </tr>\n",
       "    <tr>\n",
       "      <td>17</td>\n",
       "      <td>Chatsworth Reservoir</td>\n",
       "      <td>0.756257</td>\n",
       "      <td>0.176586</td>\n",
       "    </tr>\n",
       "    <tr>\n",
       "      <td>77</td>\n",
       "      <td>Porter Ranch</td>\n",
       "      <td>142.443669</td>\n",
       "      <td>0.125707</td>\n",
       "    </tr>\n",
       "    <tr>\n",
       "      <td>6</td>\n",
       "      <td>Beverly Crest</td>\n",
       "      <td>0.082356</td>\n",
       "      <td>0.066498</td>\n",
       "    </tr>\n",
       "    <tr>\n",
       "      <td>5</td>\n",
       "      <td>Bel-Air</td>\n",
       "      <td>0.072950</td>\n",
       "      <td>0.058907</td>\n",
       "    </tr>\n",
       "  </tbody>\n",
       "</table>\n",
       "</div>"
      ],
      "text/plain": [
       "                    name  unsheltered  unshelteredoutside\n",
       "29        Elysian Valley    65.166004            6.713450\n",
       "53           Lake Balboa    23.329680            6.488715\n",
       "49  Hollywood Hills West     6.521895            5.432202\n",
       "8            Beverlywood    11.621459            5.298418\n",
       "15          Century City     6.952370            3.265168\n",
       "55             Larchmont     3.229615            3.129461\n",
       "17  Chatsworth Reservoir     0.756257            0.176586\n",
       "77          Porter Ranch   142.443669            0.125707\n",
       "6          Beverly Crest     0.082356            0.066498\n",
       "5                Bel-Air     0.072950            0.058907"
      ]
     },
     "execution_count": 21,
     "metadata": {},
     "output_type": "execute_result"
    }
   ],
   "source": [
    "totalsbyhood.sort_values('unshelteredoutside', ascending=False).tail(10)"
   ]
  },
  {
   "cell_type": "markdown",
   "metadata": {},
   "source": [
    "**How many homeless people in the city are unsheltered?**"
   ]
  },
  {
   "cell_type": "code",
   "execution_count": 22,
   "metadata": {},
   "outputs": [
    {
     "data": {
      "text/plain": [
       "26354.024848290926"
      ]
     },
     "execution_count": 22,
     "metadata": {},
     "output_type": "execute_result"
    }
   ],
   "source": [
    "totalsbyhood.unsheltered.sum()"
   ]
  },
  {
   "cell_type": "markdown",
   "metadata": {},
   "source": [
    "**How many homeless people in the city are unsheltered and living outside (not in cars, vehicles, etc.)?**"
   ]
  },
  {
   "cell_type": "code",
   "execution_count": 23,
   "metadata": {},
   "outputs": [
    {
     "data": {
      "text/plain": [
       "15400.081918445705"
      ]
     },
     "execution_count": 23,
     "metadata": {},
     "output_type": "execute_result"
    }
   ],
   "source": [
    "totalsbyhood.unshelteredoutside.sum()"
   ]
  },
  {
   "cell_type": "code",
   "execution_count": 24,
   "metadata": {},
   "outputs": [],
   "source": [
    "totalsbyhood.to_csv('output/counts/homeless-unsheltered-by-hood.csv', index=False)"
   ]
  },
  {
   "cell_type": "markdown",
   "metadata": {},
   "source": [
    "Combine with buffer stats"
   ]
  },
  {
   "cell_type": "code",
   "execution_count": 25,
   "metadata": {},
   "outputs": [],
   "source": [
    "buffers = pd.read_csv('output/buffers/buffers-by-hood-breakdown.csv')"
   ]
  },
  {
   "cell_type": "code",
   "execution_count": 26,
   "metadata": {},
   "outputs": [
    {
     "data": {
      "text/html": [
       "<div>\n",
       "<style scoped>\n",
       "    .dataframe tbody tr th:only-of-type {\n",
       "        vertical-align: middle;\n",
       "    }\n",
       "\n",
       "    .dataframe tbody tr th {\n",
       "        vertical-align: top;\n",
       "    }\n",
       "\n",
       "    .dataframe thead th {\n",
       "        text-align: right;\n",
       "    }\n",
       "</style>\n",
       "<table border=\"1\" class=\"dataframe\">\n",
       "  <thead>\n",
       "    <tr style=\"text-align: right;\">\n",
       "      <th></th>\n",
       "      <th>name</th>\n",
       "      <th>hood_area</th>\n",
       "      <th>buffer_area</th>\n",
       "      <th>pct_of_hood_in_buffer</th>\n",
       "    </tr>\n",
       "  </thead>\n",
       "  <tbody>\n",
       "    <tr>\n",
       "      <td>0</td>\n",
       "      <td>Cypress Park</td>\n",
       "      <td>0.726685</td>\n",
       "      <td>0.454308</td>\n",
       "      <td>0.625178</td>\n",
       "    </tr>\n",
       "    <tr>\n",
       "      <td>1</td>\n",
       "      <td>Westlake</td>\n",
       "      <td>2.717338</td>\n",
       "      <td>1.692640</td>\n",
       "      <td>0.622904</td>\n",
       "    </tr>\n",
       "    <tr>\n",
       "      <td>2</td>\n",
       "      <td>Watts</td>\n",
       "      <td>2.121397</td>\n",
       "      <td>1.248720</td>\n",
       "      <td>0.588631</td>\n",
       "    </tr>\n",
       "    <tr>\n",
       "      <td>3</td>\n",
       "      <td>Koreatown</td>\n",
       "      <td>2.704202</td>\n",
       "      <td>1.562684</td>\n",
       "      <td>0.577872</td>\n",
       "    </tr>\n",
       "    <tr>\n",
       "      <td>4</td>\n",
       "      <td>Pico-Union</td>\n",
       "      <td>1.670386</td>\n",
       "      <td>0.944300</td>\n",
       "      <td>0.565318</td>\n",
       "    </tr>\n",
       "  </tbody>\n",
       "</table>\n",
       "</div>"
      ],
      "text/plain": [
       "           name  hood_area  buffer_area  pct_of_hood_in_buffer\n",
       "0  Cypress Park   0.726685     0.454308               0.625178\n",
       "1      Westlake   2.717338     1.692640               0.622904\n",
       "2         Watts   2.121397     1.248720               0.588631\n",
       "3     Koreatown   2.704202     1.562684               0.577872\n",
       "4    Pico-Union   1.670386     0.944300               0.565318"
      ]
     },
     "execution_count": 26,
     "metadata": {},
     "output_type": "execute_result"
    }
   ],
   "source": [
    "buffers.head()"
   ]
  },
  {
   "cell_type": "code",
   "execution_count": 27,
   "metadata": {},
   "outputs": [
    {
     "data": {
      "text/plain": [
       "115"
      ]
     },
     "execution_count": 27,
     "metadata": {},
     "output_type": "execute_result"
    }
   ],
   "source": [
    "len(buffers)"
   ]
  },
  {
   "cell_type": "code",
   "execution_count": 28,
   "metadata": {},
   "outputs": [],
   "source": [
    "joined = pd.merge(totalsbyhood, buffers)"
   ]
  },
  {
   "cell_type": "code",
   "execution_count": 29,
   "metadata": {},
   "outputs": [
    {
     "data": {
      "text/html": [
       "<div>\n",
       "<style scoped>\n",
       "    .dataframe tbody tr th:only-of-type {\n",
       "        vertical-align: middle;\n",
       "    }\n",
       "\n",
       "    .dataframe tbody tr th {\n",
       "        vertical-align: top;\n",
       "    }\n",
       "\n",
       "    .dataframe thead th {\n",
       "        text-align: right;\n",
       "    }\n",
       "</style>\n",
       "<table border=\"1\" class=\"dataframe\">\n",
       "  <thead>\n",
       "    <tr style=\"text-align: right;\">\n",
       "      <th></th>\n",
       "      <th>name</th>\n",
       "      <th>unsheltered</th>\n",
       "      <th>unshelteredoutside</th>\n",
       "      <th>hood_area</th>\n",
       "      <th>buffer_area</th>\n",
       "      <th>pct_of_hood_in_buffer</th>\n",
       "    </tr>\n",
       "  </thead>\n",
       "  <tbody>\n",
       "    <tr>\n",
       "      <td>0</td>\n",
       "      <td>Downtown</td>\n",
       "      <td>2477.656050</td>\n",
       "      <td>2298.862691</td>\n",
       "      <td>5.435817</td>\n",
       "      <td>1.603251</td>\n",
       "      <td>0.294942</td>\n",
       "    </tr>\n",
       "    <tr>\n",
       "      <td>1</td>\n",
       "      <td>Skid Row</td>\n",
       "      <td>1560.699515</td>\n",
       "      <td>1511.234336</td>\n",
       "      <td>0.399047</td>\n",
       "      <td>0.185527</td>\n",
       "      <td>0.464925</td>\n",
       "    </tr>\n",
       "    <tr>\n",
       "      <td>2</td>\n",
       "      <td>Westlake</td>\n",
       "      <td>1239.655588</td>\n",
       "      <td>921.219987</td>\n",
       "      <td>2.717338</td>\n",
       "      <td>1.692640</td>\n",
       "      <td>0.622904</td>\n",
       "    </tr>\n",
       "    <tr>\n",
       "      <td>3</td>\n",
       "      <td>Historic South-Central</td>\n",
       "      <td>944.710611</td>\n",
       "      <td>673.731808</td>\n",
       "      <td>2.555178</td>\n",
       "      <td>1.343640</td>\n",
       "      <td>0.525850</td>\n",
       "    </tr>\n",
       "    <tr>\n",
       "      <td>4</td>\n",
       "      <td>Hollywood</td>\n",
       "      <td>1191.539096</td>\n",
       "      <td>634.890246</td>\n",
       "      <td>3.502332</td>\n",
       "      <td>1.749808</td>\n",
       "      <td>0.499612</td>\n",
       "    </tr>\n",
       "  </tbody>\n",
       "</table>\n",
       "</div>"
      ],
      "text/plain": [
       "                     name  unsheltered  unshelteredoutside  hood_area  \\\n",
       "0                Downtown  2477.656050         2298.862691   5.435817   \n",
       "1                Skid Row  1560.699515         1511.234336   0.399047   \n",
       "2                Westlake  1239.655588          921.219987   2.717338   \n",
       "3  Historic South-Central   944.710611          673.731808   2.555178   \n",
       "4               Hollywood  1191.539096          634.890246   3.502332   \n",
       "\n",
       "   buffer_area  pct_of_hood_in_buffer  \n",
       "0     1.603251               0.294942  \n",
       "1     0.185527               0.464925  \n",
       "2     1.692640               0.622904  \n",
       "3     1.343640               0.525850  \n",
       "4     1.749808               0.499612  "
      ]
     },
     "execution_count": 29,
     "metadata": {},
     "output_type": "execute_result"
    }
   ],
   "source": [
    "joined.head()"
   ]
  },
  {
   "cell_type": "code",
   "execution_count": 30,
   "metadata": {},
   "outputs": [
    {
     "data": {
      "text/plain": [
       "115"
      ]
     },
     "execution_count": 30,
     "metadata": {},
     "output_type": "execute_result"
    }
   ],
   "source": [
    "len(joined)"
   ]
  },
  {
   "cell_type": "markdown",
   "metadata": {},
   "source": [
    "Some plots to visualize the trends"
   ]
  },
  {
   "cell_type": "code",
   "execution_count": 31,
   "metadata": {},
   "outputs": [
    {
     "data": {
      "text/plain": [
       "Text(0.5, 1.0, 'All homeless')"
      ]
     },
     "execution_count": 31,
     "metadata": {},
     "output_type": "execute_result"
    },
    {
     "data": {
      "image/png": "[encoded data removed]",
      "text/plain": [
       "<Figure size 1152x648 with 1 Axes>"
      ]
     },
     "metadata": {
      "needs_background": "light"
     },
     "output_type": "display_data"
    }
   ],
   "source": [
    "plt.figure(figsize=(16,9))\n",
    "plt.scatter(joined['pct_of_hood_in_buffer'], joined['unsheltered'])\n",
    "for i, txt in enumerate(joined['name']):\n",
    "    plt.annotate(txt, (joined['pct_of_hood_in_buffer'].iloc[i], joined['unsheltered'].iloc[i]))\n",
    "plt.ylabel('Total homeless population')\n",
    "plt.xlabel('Percentage of neighborhood in buffers')\n",
    "plt.title('All homeless')"
   ]
  },
  {
   "cell_type": "code",
   "execution_count": 32,
   "metadata": {},
   "outputs": [
    {
     "data": {
      "text/plain": [
       "Text(0.5, 1.0, 'Homeless sleeping outside')"
      ]
     },
     "execution_count": 32,
     "metadata": {},
     "output_type": "execute_result"
    },
    {
     "data": {
      "image/png": "[encoded data removed]",
      "text/plain": [
       "<Figure size 1152x648 with 1 Axes>"
      ]
     },
     "metadata": {
      "needs_background": "light"
     },
     "output_type": "display_data"
    }
   ],
   "source": [
    "plt.figure(figsize=(16,9))\n",
    "plt.scatter(joined['pct_of_hood_in_buffer'], joined['unshelteredoutside'])\n",
    "for i, txt in enumerate(joined['name']):\n",
    "    plt.annotate(txt, (joined['pct_of_hood_in_buffer'].iloc[i], joined['unshelteredoutside'].iloc[i]))\n",
    "plt.ylabel('Total homeless population in tents and makeshift shelters')\n",
    "plt.xlabel('Percentage of neighborhood in buffers')\n",
    "plt.title('Homeless sleeping outside')"
   ]
  },
  {
   "cell_type": "code",
   "execution_count": 33,
   "metadata": {},
   "outputs": [],
   "source": [
    "joined.to_csv('output/joined-buffers-homeless-stats.csv', index=False)"
   ]
  },
  {
   "cell_type": "code",
   "execution_count": null,
   "metadata": {},
   "outputs": [],
   "source": []
  }
 ],
 "metadata": {
  "kernelspec": {
   "display_name": "Python 3",
   "language": "python",
   "name": "python3"
  },
  "language_info": {
   "codemirror_mode": {
    "name": "ipython",
    "version": 3
   },
   "file_extension": ".py",
   "mimetype": "text/x-python",
   "name": "python",
   "nbconvert_exporter": "python",
   "pygments_lexer": "ipython3",
   "version": "3.7.3"
  }
 },
 "nbformat": 4,
 "nbformat_minor": 2
}
